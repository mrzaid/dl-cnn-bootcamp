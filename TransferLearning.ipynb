{
  "nbformat": 4,
  "nbformat_minor": 0,
  "metadata": {
    "colab": {
      "provenance": [],
      "authorship_tag": "ABX9TyPmz8P8WUv56bNJZdyF5Z4X",
      "include_colab_link": true
    },
    "kernelspec": {
      "name": "python3",
      "display_name": "Python 3"
    },
    "language_info": {
      "name": "python"
    },
    "accelerator": "GPU",
    "gpuClass": "standard"
  },
  "cells": [
    {
      "cell_type": "markdown",
      "metadata": {
        "id": "view-in-github",
        "colab_type": "text"
      },
      "source": [
        "<a href=\"https://colab.research.google.com/github/mrzaid/dl-cnn-bootcamp/blob/main/TransferLearning.ipynb\" target=\"_parent\"><img src=\"https://colab.research.google.com/assets/colab-badge.svg\" alt=\"Open In Colab\"/></a>"
      ]
    },
    {
      "cell_type": "code",
      "execution_count": 1,
      "metadata": {
        "id": "9poZexB60lab"
      },
      "outputs": [],
      "source": [
        "import tensorflow as tf"
      ]
    },
    {
      "cell_type": "code",
      "source": [
        "daily_sales_numbers=[21,22,-100,31,-1,32,34,31]\n",
        "tf_dataset=tf.data.Dataset.from_tensor_slices(daily_sales_numbers)\n",
        "tf_dataset"
      ],
      "metadata": {
        "colab": {
          "base_uri": "https://localhost:8080/"
        },
        "id": "9pFGznjl0nvB",
        "outputId": "1c1fecd2-0ec7-4b97-bc5a-f873c076d451"
      },
      "execution_count": 2,
      "outputs": [
        {
          "output_type": "execute_result",
          "data": {
            "text/plain": [
              "<TensorSliceDataset element_spec=TensorSpec(shape=(), dtype=tf.int32, name=None)>"
            ]
          },
          "metadata": {},
          "execution_count": 2
        }
      ]
    },
    {
      "cell_type": "code",
      "source": [
        "for sales in tf_dataset:\n",
        "  print(sales.numpy())\n",
        "for sales in tf_dataset.as_numpy_iterator():\n",
        "  print(sales)\n",
        "for sales in tf_dataset.take(3):\n",
        "  print(sales.numpy())\n",
        "  "
      ],
      "metadata": {
        "id": "CbAJO-Ak1ErF"
      },
      "execution_count": null,
      "outputs": []
    },
    {
      "cell_type": "code",
      "source": [
        "tf_dataset=tf_dataset.filter(lambda x:x>0).map(lambda y:y*3).shuffle(5).batch(2)\n",
        "for sales in tf_dataset:\n",
        "  print(sales.numpy())"
      ],
      "metadata": {
        "id": "dfGWGuae1ODT"
      },
      "execution_count": null,
      "outputs": []
    },
    {
      "cell_type": "code",
      "source": [
        "images_ds=tf.data.Dataset.list_files('images/*/*',shuffle=True)\n",
        "images_ds=images_ds.shuffle(200)\n",
        "class_names=['cat','dog']\n",
        "image_count=len(images_ds)\n",
        "train_size=int(image_count*0.8)\n",
        "train_ds=images_ds.take(train_size)\n",
        "test_ds=images_ds.skip(train_size)\n",
        "\n"
      ],
      "metadata": {
        "id": "Ahg4sYCb11HX"
      },
      "execution_count": null,
      "outputs": []
    },
    {
      "cell_type": "code",
      "source": [
        "s='image\\\\dog\\\\why'\n",
        "s.split('\\\\')[-2]\n",
        "def get_label(file_path):\n",
        "  return file_path.split('\\\\')[-2]\n",
        "  import os\n",
        "  return tf.strings.split(file_path,os.path.sep)[-2]\n",
        "for label in train_ds.map(get_label):\n",
        "  print(label)\n",
        "\n"
      ],
      "metadata": {
        "id": "rfzCQWB35mAl"
      },
      "execution_count": null,
      "outputs": []
    },
    {
      "cell_type": "code",
      "source": [
        "# processing images to remove blur and other anamolies\n",
        "def process_image(file_path):\n",
        "  label=get_label(file_path)\n",
        "  img=tf.io.read_file(file_path)\n",
        "  img=tf.image.decode_jpeg(img)\n",
        "  img=tf.image.resize(img,[128,128])\n",
        "for t in train_ds.take(4):\n",
        "  print(t.numpy())\n",
        "\n",
        "train_ds=train_ds.map(process_image)\n",
        "for image,label in train_ds.take(3):\n",
        "  print(label)  \n"
      ],
      "metadata": {
        "id": "PVc7ewoG7kLo"
      },
      "execution_count": null,
      "outputs": []
    },
    {
      "cell_type": "code",
      "source": [
        "# scaling values 0-1\n",
        "def scale(image,label):\n",
        "  return image/255,label\n",
        "train_ds=train_ds.map(scale)\n",
        "for image,label in train_ds.take(3):\n",
        "  print('****Image: ',image.numpy()[0][0])   \n",
        "  print('****Label: ',label.numpy())   "
      ],
      "metadata": {
        "id": "GVIzZqDi-yg2"
      },
      "execution_count": null,
      "outputs": []
    },
    {
      "cell_type": "code",
      "source": [],
      "metadata": {
        "id": "p5H2YFt-ABJD"
      },
      "execution_count": null,
      "outputs": []
    }
  ]
}