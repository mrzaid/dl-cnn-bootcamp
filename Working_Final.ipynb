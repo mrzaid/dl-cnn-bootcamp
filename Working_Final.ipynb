{
  "nbformat": 4,
  "nbformat_minor": 0,
  "metadata": {
    "colab": {
      "provenance": [],
      "gpuType": "T4",
      "include_colab_link": true
    },
    "kernelspec": {
      "name": "python3",
      "display_name": "Python 3"
    },
    "language_info": {
      "name": "python"
    },
    "accelerator": "GPU"
  },
  "cells": [
    {
      "cell_type": "markdown",
      "metadata": {
        "id": "view-in-github",
        "colab_type": "text"
      },
      "source": [
        "<a href=\"https://colab.research.google.com/github/mrzaid/dl-cnn-bootcamp/blob/main/Working_Final.ipynb\" target=\"_parent\"><img src=\"https://colab.research.google.com/assets/colab-badge.svg\" alt=\"Open In Colab\"/></a>"
      ]
    },
    {
      "cell_type": "code",
      "execution_count": 24,
      "metadata": {
        "id": "uYqwMPrl-cZK"
      },
      "outputs": [],
      "source": [
        "import os\n",
        "import warnings\n",
        "warnings.filterwarnings('ignore')\n",
        "\n",
        "import numpy as np # linear algebra\n",
        "import pandas as pd # data processing, CSV file I/O (e.g. pd.read_csv)\n",
        "import matplotlib.pyplot as plt\n",
        "import seaborn as sns\n",
        "\n",
        "# librosa is a Python library for analyzing audio and music.\n",
        "# It can be used to extract the data from the audio files we will see it later\n",
        "import librosa\n",
        "import librosa.display\n",
        "\n",
        "# to play the audio files\n",
        "from IPython.display import Audio\n",
        "plt.style.use('seaborn-white')\n"
      ]
    },
    {
      "cell_type": "markdown",
      "source": [],
      "metadata": {
        "id": "SrR6EVq8MHgK"
      }
    },
    {
      "cell_type": "code",
      "source": [
        "#!pip install resampy"
      ],
      "metadata": {
        "id": "hnC6hskUMJhZ"
      },
      "execution_count": 25,
      "outputs": []
    },
    {
      "cell_type": "code",
      "source": [
        "import resampy"
      ],
      "metadata": {
        "id": "cZ_yOZgyM0DR"
      },
      "execution_count": 26,
      "outputs": []
    },
    {
      "cell_type": "code",
      "source": [
        "from google.colab import drive\n",
        "drive.mount('/content/drive')"
      ],
      "metadata": {
        "colab": {
          "base_uri": "https://localhost:8080/"
        },
        "id": "QT3JnANW-pAq",
        "outputId": "9b643e67-6321-4dd1-fb5f-2921af399e6d"
      },
      "execution_count": 27,
      "outputs": [
        {
          "output_type": "stream",
          "name": "stdout",
          "text": [
            "Drive already mounted at /content/drive; to attempt to forcibly remount, call drive.mount(\"/content/drive\", force_remount=True).\n"
          ]
        }
      ]
    },
    {
      "cell_type": "code",
      "source": [
        "ANGRY_DATASET = '/content/drive/MyDrive/Complete Dataset/Angry Emotions'\n",
        "MIX_DATASET = '/content/drive/MyDrive/Complete Dataset/Mix Emotions'"
      ],
      "metadata": {
        "id": "wvobxuaV-uSp"
      },
      "execution_count": 28,
      "outputs": []
    },
    {
      "cell_type": "code",
      "source": [
        "# Get the data location for ANGRY Emotion Audios\n",
        "dir_list = os.listdir(ANGRY_DATASET)\n",
        "\n",
        "\n",
        "# parse the filename to get the emotions\n",
        "angry_emotion=[]\n",
        "angry_path = []\n",
        "for i in dir_list:\n",
        "    if i[0]=='a':\n",
        "        angry_emotion.append('angry')\n",
        "    else:\n",
        "        angry_emotion.append('unknown')\n",
        "    angry_path.append(ANGRY_DATASET +'/'+ i)\n",
        "\n",
        "\n",
        "# Now check out the label count distribution\n",
        "ANGRY_EMOTIONS_df = pd.DataFrame(angry_emotion, columns = ['labels'])\n",
        "ANGRY_EMOTIONS_df = pd.concat([ANGRY_EMOTIONS_df, pd.DataFrame(angry_path, columns = ['path'])], axis = 1)\n",
        "print(ANGRY_EMOTIONS_df.shape)\n",
        "ANGRY_EMOTIONS_df.head()\n"
      ],
      "metadata": {
        "colab": {
          "base_uri": "https://localhost:8080/",
          "height": 225
        },
        "id": "5SfPRNmm-uT0",
        "outputId": "6391a4d5-8655-4fcc-c10e-de9e0ac15f1f"
      },
      "execution_count": 29,
      "outputs": [
        {
          "output_type": "stream",
          "name": "stdout",
          "text": [
            "(500, 2)\n"
          ]
        },
        {
          "output_type": "execute_result",
          "data": {
            "text/plain": [
              "  labels                                               path\n",
              "0  angry  /content/drive/MyDrive/Complete Dataset/Angry ...\n",
              "1  angry  /content/drive/MyDrive/Complete Dataset/Angry ...\n",
              "2  angry  /content/drive/MyDrive/Complete Dataset/Angry ...\n",
              "3  angry  /content/drive/MyDrive/Complete Dataset/Angry ...\n",
              "4  angry  /content/drive/MyDrive/Complete Dataset/Angry ..."
            ],
            "text/html": [
              "\n",
              "  <div id=\"df-3d07a8f7-f471-4ee2-9621-0553f5135ee4\">\n",
              "    <div class=\"colab-df-container\">\n",
              "      <div>\n",
              "<style scoped>\n",
              "    .dataframe tbody tr th:only-of-type {\n",
              "        vertical-align: middle;\n",
              "    }\n",
              "\n",
              "    .dataframe tbody tr th {\n",
              "        vertical-align: top;\n",
              "    }\n",
              "\n",
              "    .dataframe thead th {\n",
              "        text-align: right;\n",
              "    }\n",
              "</style>\n",
              "<table border=\"1\" class=\"dataframe\">\n",
              "  <thead>\n",
              "    <tr style=\"text-align: right;\">\n",
              "      <th></th>\n",
              "      <th>labels</th>\n",
              "      <th>path</th>\n",
              "    </tr>\n",
              "  </thead>\n",
              "  <tbody>\n",
              "    <tr>\n",
              "      <th>0</th>\n",
              "      <td>angry</td>\n",
              "      <td>/content/drive/MyDrive/Complete Dataset/Angry ...</td>\n",
              "    </tr>\n",
              "    <tr>\n",
              "      <th>1</th>\n",
              "      <td>angry</td>\n",
              "      <td>/content/drive/MyDrive/Complete Dataset/Angry ...</td>\n",
              "    </tr>\n",
              "    <tr>\n",
              "      <th>2</th>\n",
              "      <td>angry</td>\n",
              "      <td>/content/drive/MyDrive/Complete Dataset/Angry ...</td>\n",
              "    </tr>\n",
              "    <tr>\n",
              "      <th>3</th>\n",
              "      <td>angry</td>\n",
              "      <td>/content/drive/MyDrive/Complete Dataset/Angry ...</td>\n",
              "    </tr>\n",
              "    <tr>\n",
              "      <th>4</th>\n",
              "      <td>angry</td>\n",
              "      <td>/content/drive/MyDrive/Complete Dataset/Angry ...</td>\n",
              "    </tr>\n",
              "  </tbody>\n",
              "</table>\n",
              "</div>\n",
              "      <button class=\"colab-df-convert\" onclick=\"convertToInteractive('df-3d07a8f7-f471-4ee2-9621-0553f5135ee4')\"\n",
              "              title=\"Convert this dataframe to an interactive table.\"\n",
              "              style=\"display:none;\">\n",
              "        \n",
              "  <svg xmlns=\"http://www.w3.org/2000/svg\" height=\"24px\"viewBox=\"0 0 24 24\"\n",
              "       width=\"24px\">\n",
              "    <path d=\"M0 0h24v24H0V0z\" fill=\"none\"/>\n",
              "    <path d=\"M18.56 5.44l.94 2.06.94-2.06 2.06-.94-2.06-.94-.94-2.06-.94 2.06-2.06.94zm-11 1L8.5 8.5l.94-2.06 2.06-.94-2.06-.94L8.5 2.5l-.94 2.06-2.06.94zm10 10l.94 2.06.94-2.06 2.06-.94-2.06-.94-.94-2.06-.94 2.06-2.06.94z\"/><path d=\"M17.41 7.96l-1.37-1.37c-.4-.4-.92-.59-1.43-.59-.52 0-1.04.2-1.43.59L10.3 9.45l-7.72 7.72c-.78.78-.78 2.05 0 2.83L4 21.41c.39.39.9.59 1.41.59.51 0 1.02-.2 1.41-.59l7.78-7.78 2.81-2.81c.8-.78.8-2.07 0-2.86zM5.41 20L4 18.59l7.72-7.72 1.47 1.35L5.41 20z\"/>\n",
              "  </svg>\n",
              "      </button>\n",
              "      \n",
              "  <style>\n",
              "    .colab-df-container {\n",
              "      display:flex;\n",
              "      flex-wrap:wrap;\n",
              "      gap: 12px;\n",
              "    }\n",
              "\n",
              "    .colab-df-convert {\n",
              "      background-color: #E8F0FE;\n",
              "      border: none;\n",
              "      border-radius: 50%;\n",
              "      cursor: pointer;\n",
              "      display: none;\n",
              "      fill: #1967D2;\n",
              "      height: 32px;\n",
              "      padding: 0 0 0 0;\n",
              "      width: 32px;\n",
              "    }\n",
              "\n",
              "    .colab-df-convert:hover {\n",
              "      background-color: #E2EBFA;\n",
              "      box-shadow: 0px 1px 2px rgba(60, 64, 67, 0.3), 0px 1px 3px 1px rgba(60, 64, 67, 0.15);\n",
              "      fill: #174EA6;\n",
              "    }\n",
              "\n",
              "    [theme=dark] .colab-df-convert {\n",
              "      background-color: #3B4455;\n",
              "      fill: #D2E3FC;\n",
              "    }\n",
              "\n",
              "    [theme=dark] .colab-df-convert:hover {\n",
              "      background-color: #434B5C;\n",
              "      box-shadow: 0px 1px 3px 1px rgba(0, 0, 0, 0.15);\n",
              "      filter: drop-shadow(0px 1px 2px rgba(0, 0, 0, 0.3));\n",
              "      fill: #FFFFFF;\n",
              "    }\n",
              "  </style>\n",
              "\n",
              "      <script>\n",
              "        const buttonEl =\n",
              "          document.querySelector('#df-3d07a8f7-f471-4ee2-9621-0553f5135ee4 button.colab-df-convert');\n",
              "        buttonEl.style.display =\n",
              "          google.colab.kernel.accessAllowed ? 'block' : 'none';\n",
              "\n",
              "        async function convertToInteractive(key) {\n",
              "          const element = document.querySelector('#df-3d07a8f7-f471-4ee2-9621-0553f5135ee4');\n",
              "          const dataTable =\n",
              "            await google.colab.kernel.invokeFunction('convertToInteractive',\n",
              "                                                     [key], {});\n",
              "          if (!dataTable) return;\n",
              "\n",
              "          const docLinkHtml = 'Like what you see? Visit the ' +\n",
              "            '<a target=\"_blank\" href=https://colab.research.google.com/notebooks/data_table.ipynb>data table notebook</a>'\n",
              "            + ' to learn more about interactive tables.';\n",
              "          element.innerHTML = '';\n",
              "          dataTable['output_type'] = 'display_data';\n",
              "          await google.colab.output.renderOutput(dataTable, element);\n",
              "          const docLink = document.createElement('div');\n",
              "          docLink.innerHTML = docLinkHtml;\n",
              "          element.appendChild(docLink);\n",
              "        }\n",
              "      </script>\n",
              "    </div>\n",
              "  </div>\n",
              "  "
            ]
          },
          "metadata": {},
          "execution_count": 29
        }
      ]
    },
    {
      "cell_type": "code",
      "source": [
        "# Get the data location for MIX Emotion Audios\n",
        "dir_list = os.listdir(MIX_DATASET)\n",
        "\n",
        "\n",
        "# parse the filename to get the emotions\n",
        "mix_emotion=[]\n",
        "mix_path = []\n",
        "for i in dir_list:\n",
        "    if i[0]=='m':\n",
        "        mix_emotion.append('mix')\n",
        "    else:\n",
        "        mix_emotion.append('unknown')\n",
        "    mix_path.append(MIX_DATASET +'/'+ i)\n",
        "\n",
        "\n",
        "# Now check out the label count distribution\n",
        "MIX_EMOTIONS_df = pd.DataFrame(mix_emotion, columns = ['labels'])\n",
        "MIX_EMOTIONS_df = pd.concat([MIX_EMOTIONS_df, pd.DataFrame(mix_path, columns = ['path'])], axis = 1)\n",
        "print(MIX_EMOTIONS_df.shape)\n",
        "MIX_EMOTIONS_df.head()"
      ],
      "metadata": {
        "colab": {
          "base_uri": "https://localhost:8080/",
          "height": 225
        },
        "id": "BWzkCQosfZAB",
        "outputId": "6e651f13-8002-4c53-b4b9-e13a64013468"
      },
      "execution_count": 30,
      "outputs": [
        {
          "output_type": "stream",
          "name": "stdout",
          "text": [
            "(500, 2)\n"
          ]
        },
        {
          "output_type": "execute_result",
          "data": {
            "text/plain": [
              "  labels                                               path\n",
              "0    mix  /content/drive/MyDrive/Complete Dataset/Mix Em...\n",
              "1    mix  /content/drive/MyDrive/Complete Dataset/Mix Em...\n",
              "2    mix  /content/drive/MyDrive/Complete Dataset/Mix Em...\n",
              "3    mix  /content/drive/MyDrive/Complete Dataset/Mix Em...\n",
              "4    mix  /content/drive/MyDrive/Complete Dataset/Mix Em..."
            ],
            "text/html": [
              "\n",
              "  <div id=\"df-30148ebb-eea4-4e36-91f9-e7aa168f7eb5\">\n",
              "    <div class=\"colab-df-container\">\n",
              "      <div>\n",
              "<style scoped>\n",
              "    .dataframe tbody tr th:only-of-type {\n",
              "        vertical-align: middle;\n",
              "    }\n",
              "\n",
              "    .dataframe tbody tr th {\n",
              "        vertical-align: top;\n",
              "    }\n",
              "\n",
              "    .dataframe thead th {\n",
              "        text-align: right;\n",
              "    }\n",
              "</style>\n",
              "<table border=\"1\" class=\"dataframe\">\n",
              "  <thead>\n",
              "    <tr style=\"text-align: right;\">\n",
              "      <th></th>\n",
              "      <th>labels</th>\n",
              "      <th>path</th>\n",
              "    </tr>\n",
              "  </thead>\n",
              "  <tbody>\n",
              "    <tr>\n",
              "      <th>0</th>\n",
              "      <td>mix</td>\n",
              "      <td>/content/drive/MyDrive/Complete Dataset/Mix Em...</td>\n",
              "    </tr>\n",
              "    <tr>\n",
              "      <th>1</th>\n",
              "      <td>mix</td>\n",
              "      <td>/content/drive/MyDrive/Complete Dataset/Mix Em...</td>\n",
              "    </tr>\n",
              "    <tr>\n",
              "      <th>2</th>\n",
              "      <td>mix</td>\n",
              "      <td>/content/drive/MyDrive/Complete Dataset/Mix Em...</td>\n",
              "    </tr>\n",
              "    <tr>\n",
              "      <th>3</th>\n",
              "      <td>mix</td>\n",
              "      <td>/content/drive/MyDrive/Complete Dataset/Mix Em...</td>\n",
              "    </tr>\n",
              "    <tr>\n",
              "      <th>4</th>\n",
              "      <td>mix</td>\n",
              "      <td>/content/drive/MyDrive/Complete Dataset/Mix Em...</td>\n",
              "    </tr>\n",
              "  </tbody>\n",
              "</table>\n",
              "</div>\n",
              "      <button class=\"colab-df-convert\" onclick=\"convertToInteractive('df-30148ebb-eea4-4e36-91f9-e7aa168f7eb5')\"\n",
              "              title=\"Convert this dataframe to an interactive table.\"\n",
              "              style=\"display:none;\">\n",
              "        \n",
              "  <svg xmlns=\"http://www.w3.org/2000/svg\" height=\"24px\"viewBox=\"0 0 24 24\"\n",
              "       width=\"24px\">\n",
              "    <path d=\"M0 0h24v24H0V0z\" fill=\"none\"/>\n",
              "    <path d=\"M18.56 5.44l.94 2.06.94-2.06 2.06-.94-2.06-.94-.94-2.06-.94 2.06-2.06.94zm-11 1L8.5 8.5l.94-2.06 2.06-.94-2.06-.94L8.5 2.5l-.94 2.06-2.06.94zm10 10l.94 2.06.94-2.06 2.06-.94-2.06-.94-.94-2.06-.94 2.06-2.06.94z\"/><path d=\"M17.41 7.96l-1.37-1.37c-.4-.4-.92-.59-1.43-.59-.52 0-1.04.2-1.43.59L10.3 9.45l-7.72 7.72c-.78.78-.78 2.05 0 2.83L4 21.41c.39.39.9.59 1.41.59.51 0 1.02-.2 1.41-.59l7.78-7.78 2.81-2.81c.8-.78.8-2.07 0-2.86zM5.41 20L4 18.59l7.72-7.72 1.47 1.35L5.41 20z\"/>\n",
              "  </svg>\n",
              "      </button>\n",
              "      \n",
              "  <style>\n",
              "    .colab-df-container {\n",
              "      display:flex;\n",
              "      flex-wrap:wrap;\n",
              "      gap: 12px;\n",
              "    }\n",
              "\n",
              "    .colab-df-convert {\n",
              "      background-color: #E8F0FE;\n",
              "      border: none;\n",
              "      border-radius: 50%;\n",
              "      cursor: pointer;\n",
              "      display: none;\n",
              "      fill: #1967D2;\n",
              "      height: 32px;\n",
              "      padding: 0 0 0 0;\n",
              "      width: 32px;\n",
              "    }\n",
              "\n",
              "    .colab-df-convert:hover {\n",
              "      background-color: #E2EBFA;\n",
              "      box-shadow: 0px 1px 2px rgba(60, 64, 67, 0.3), 0px 1px 3px 1px rgba(60, 64, 67, 0.15);\n",
              "      fill: #174EA6;\n",
              "    }\n",
              "\n",
              "    [theme=dark] .colab-df-convert {\n",
              "      background-color: #3B4455;\n",
              "      fill: #D2E3FC;\n",
              "    }\n",
              "\n",
              "    [theme=dark] .colab-df-convert:hover {\n",
              "      background-color: #434B5C;\n",
              "      box-shadow: 0px 1px 3px 1px rgba(0, 0, 0, 0.15);\n",
              "      filter: drop-shadow(0px 1px 2px rgba(0, 0, 0, 0.3));\n",
              "      fill: #FFFFFF;\n",
              "    }\n",
              "  </style>\n",
              "\n",
              "      <script>\n",
              "        const buttonEl =\n",
              "          document.querySelector('#df-30148ebb-eea4-4e36-91f9-e7aa168f7eb5 button.colab-df-convert');\n",
              "        buttonEl.style.display =\n",
              "          google.colab.kernel.accessAllowed ? 'block' : 'none';\n",
              "\n",
              "        async function convertToInteractive(key) {\n",
              "          const element = document.querySelector('#df-30148ebb-eea4-4e36-91f9-e7aa168f7eb5');\n",
              "          const dataTable =\n",
              "            await google.colab.kernel.invokeFunction('convertToInteractive',\n",
              "                                                     [key], {});\n",
              "          if (!dataTable) return;\n",
              "\n",
              "          const docLinkHtml = 'Like what you see? Visit the ' +\n",
              "            '<a target=\"_blank\" href=https://colab.research.google.com/notebooks/data_table.ipynb>data table notebook</a>'\n",
              "            + ' to learn more about interactive tables.';\n",
              "          element.innerHTML = '';\n",
              "          dataTable['output_type'] = 'display_data';\n",
              "          await google.colab.output.renderOutput(dataTable, element);\n",
              "          const docLink = document.createElement('div');\n",
              "          docLink.innerHTML = docLinkHtml;\n",
              "          element.appendChild(docLink);\n",
              "        }\n",
              "      </script>\n",
              "    </div>\n",
              "  </div>\n",
              "  "
            ]
          },
          "metadata": {},
          "execution_count": 30
        }
      ]
    },
    {
      "cell_type": "code",
      "source": [
        "#DATA AUGMENTATION\n",
        "def noise(data):\n",
        "    noise_amp = 0.04*np.random.uniform()*np.amax(data)\n",
        "    data = data + noise_amp*np.random.normal(size=data.shape[0])\n",
        "    return data\n",
        "\n",
        "def stretch(data, rate=0.70):\n",
        "    return librosa.effects.time_stretch(data, rate=rate)\n",
        "\n",
        "def shift(data):\n",
        "    shift_range = int(np.random.uniform(low=-5, high = 5)*1000)\n",
        "    return np.roll(data, shift_range)\n",
        "\n",
        "def pitch(data, sampling_rate, pitch_factor=0.8):\n",
        "    return librosa.effects.pitch_shift(data, sr=sampling_rate, n_steps=pitch_factor,)\n",
        "\n",
        "def higher_speed(data, speed_factor = 1.25):\n",
        "    return librosa.effects.time_stretch(data,rate=speed_factor,)\n",
        "\n",
        "def lower_speed(data, speed_factor = 0.75):\n",
        "    return librosa.effects.time_stretch(data,rate=speed_factor)"
      ],
      "metadata": {
        "id": "RoVjx5R7-9sg"
      },
      "execution_count": 31,
      "outputs": []
    },
    {
      "cell_type": "code",
      "source": [
        "#sample_rate = 22050\n",
        "\n",
        "def extract_features(data):\n",
        "    result = np.array([])\n",
        "    mfccs = librosa.feature.mfcc(y=data, sr=22050, n_mfcc=58)\n",
        "    mfccs_processed = np.mean(mfccs.T,axis=0)\n",
        "    result = np.array(mfccs_processed)\n",
        "\n",
        "    return result\n",
        "\n",
        "def get_features1(path):\n",
        "    # duration and offset are used to take care of the no audio in start and the ending of each audio files as seen above.\n",
        "    data, sample_rate = librosa.load(path, duration=3, offset=0.5, res_type='kaiser_fast')\n",
        "\n",
        "    #without augmentation\n",
        "    res1 = extract_features(data)\n",
        "    result = np.array(res1)\n",
        "    return result\n",
        "\n",
        "def get_features2(path):\n",
        "    # duration and offset are used to take care of the no audio in start and the ending of each audio files as seen above.\n",
        "    data, sample_rate = librosa.load(path, duration=3, offset=0.5, res_type='kaiser_fast')\n",
        "\n",
        "    #noised\n",
        "    noise_data = noise(data)\n",
        "    res2 = extract_features(noise_data)\n",
        "    result = np.array(res2)\n",
        "    return result\n",
        "\n",
        "def get_features3(path):\n",
        "    # duration and offset are used to take care of the no audio in start and the ending of each audio files as seen above.\n",
        "    data, sample_rate = librosa.load(path, duration=3, offset=0.5, res_type='kaiser_fast')\n",
        "\n",
        "    #stretched\n",
        "    stretch_data = stretch(data)\n",
        "    res3 = extract_features(stretch_data)\n",
        "    result = np.array(res3)\n",
        "    return result\n",
        "\n",
        "def get_features4(path):\n",
        "    # duration and offset are used to take care of the no audio in start and the ending of each audio files as seen above.\n",
        "    data, sample_rate = librosa.load(path, duration=3, offset=0.5, res_type='kaiser_fast')\n",
        "\n",
        "    #shifted\n",
        "    shift_data = shift(data)\n",
        "    res4 = extract_features(shift_data)\n",
        "    result = np.array(res4)\n",
        "    return result\n",
        "\n",
        "def get_features5(path):\n",
        "    # duration and offset are used to take care of the no audio in start and the ending of each audio files as seen above.\n",
        "    data, sample_rate = librosa.load(path, duration=3, offset=0.5, res_type='kaiser_fast')\n",
        "\n",
        "    #pitched\n",
        "    pitch_data = pitch(data, sample_rate)\n",
        "    res5 = extract_features(pitch_data)\n",
        "    result = np.array(res5)\n",
        "    return result\n",
        "\n",
        "\n",
        "def get_features6(path):\n",
        "    # duration and offset are used to take care of the no audio in start and the ending of each audio files as seen above.\n",
        "    data, sample_rate = librosa.load(path, duration=3, offset=0.5, res_type='kaiser_fast')\n",
        "\n",
        "    #speed up\n",
        "    higher_speed_data = higher_speed(data)\n",
        "    res6 = extract_features(higher_speed_data)\n",
        "    result = np.array(res6)\n",
        "    return result\n",
        "\n",
        "def get_features7(path):\n",
        "    # duration and offset are used to take care of the no audio in start and the ending of each audio files as seen above.\n",
        "    data, sample_rate = librosa.load(path, duration=3, offset=0.5, res_type='kaiser_fast')\n",
        "\n",
        "    #speed down\n",
        "    lower_speed_data = lower_speed(data)\n",
        "    res7 = extract_features(lower_speed_data)\n",
        "    result = np.array(res7)\n",
        "    return result"
      ],
      "metadata": {
        "id": "HIbYHuzS_EBg"
      },
      "execution_count": 32,
      "outputs": []
    },
    {
      "cell_type": "code",
      "source": [
        "#!pip install resampy==0.2.2\n"
      ],
      "metadata": {
        "id": "o1-_jL-QOf3o"
      },
      "execution_count": 33,
      "outputs": []
    },
    {
      "cell_type": "code",
      "source": [
        "#Feature Extraction for ANGRY Dataset\n",
        "angryList =[]\n",
        "angryLabels =[]\n",
        "for index,row in ANGRY_EMOTIONS_df.iterrows():\n",
        "    normal = get_features1(row['path'])\n",
        "    noised = get_features2(row['path'])\n",
        "    stretched = get_features3(row['path'])\n",
        "    shifted = get_features4(row['path'])\n",
        "    pitched = get_features5(row['path'])\n",
        "    speed_up = get_features6(row['path'])\n",
        "    speed_down = get_features7(row['path'])\n",
        "\n",
        "\n",
        "    angryLabels.append(row['labels'])\n",
        "    angryLabels.append(row['labels'])\n",
        "    angryLabels.append(row['labels'])\n",
        "    angryLabels.append(row['labels'])\n",
        "    angryLabels.append(row['labels'])\n",
        "    angryLabels.append(row['labels'])\n",
        "    angryLabels.append(row['labels'])\n",
        "\n",
        "    angryList.append(normal)\n",
        "    angryList.append(noised)\n",
        "    angryList.append(stretched)\n",
        "    angryList.append(shifted)\n",
        "    angryList.append(pitched)\n",
        "    angryList.append(speed_up)\n",
        "    angryList.append(speed_down)\n",
        "\n",
        "print(angryList)"
      ],
      "metadata": {
        "colab": {
          "base_uri": "https://localhost:8080/"
        },
        "id": "3rpzYzeL_ECe",
        "outputId": "b2c8428c-faca-4c85-e0f3-4c9a72016526"
      },
      "execution_count": 34,
      "outputs": [
        {
          "output_type": "stream",
          "name": "stderr",
          "text": [
            "IOPub data rate exceeded.\n",
            "The notebook server will temporarily stop sending output\n",
            "to the client in order to avoid crashing it.\n",
            "To change this limit, set the config variable\n",
            "`--NotebookApp.iopub_data_rate_limit`.\n",
            "\n",
            "Current values:\n",
            "NotebookApp.iopub_data_rate_limit=1000000.0 (bytes/sec)\n",
            "NotebookApp.rate_limit_window=3.0 (secs)\n",
            "\n"
          ]
        }
      ]
    },
    {
      "cell_type": "code",
      "source": [
        "angry_arr1 = np.array(angryList)\n",
        "angry_arr1.shape"
      ],
      "metadata": {
        "colab": {
          "base_uri": "https://localhost:8080/"
        },
        "id": "uBxqpyf9AAgO",
        "outputId": "5f5f060b-d9cc-436c-d9eb-e35e4d58591e"
      },
      "execution_count": 35,
      "outputs": [
        {
          "output_type": "execute_result",
          "data": {
            "text/plain": [
              "(3500, 58)"
            ]
          },
          "metadata": {},
          "execution_count": 35
        }
      ]
    },
    {
      "cell_type": "code",
      "source": [
        "angry_arr2 = np.array(angryLabels)\n",
        "angry_arr2.shape"
      ],
      "metadata": {
        "colab": {
          "base_uri": "https://localhost:8080/"
        },
        "id": "Ma96-fEGABal",
        "outputId": "38588e2a-90f6-49f5-a946-189a53c76abf"
      },
      "execution_count": 36,
      "outputs": [
        {
          "output_type": "execute_result",
          "data": {
            "text/plain": [
              "(3500,)"
            ]
          },
          "metadata": {},
          "execution_count": 36
        }
      ]
    },
    {
      "cell_type": "code",
      "source": [
        "columnss=[]\n",
        "for i in range(58):\n",
        "  columnss.append(i)\n",
        "print(columnss)"
      ],
      "metadata": {
        "colab": {
          "base_uri": "https://localhost:8080/"
        },
        "id": "BqCFvgbvimuJ",
        "outputId": "23cd105b-b853-46c0-f1cf-b079d03e756c"
      },
      "execution_count": 37,
      "outputs": [
        {
          "output_type": "stream",
          "name": "stdout",
          "text": [
            "[0, 1, 2, 3, 4, 5, 6, 7, 8, 9, 10, 11, 12, 13, 14, 15, 16, 17, 18, 19, 20, 21, 22, 23, 24, 25, 26, 27, 28, 29, 30, 31, 32, 33, 34, 35, 36, 37, 38, 39, 40, 41, 42, 43, 44, 45, 46, 47, 48, 49, 50, 51, 52, 53, 54, 55, 56, 57]\n"
          ]
        }
      ]
    },
    {
      "cell_type": "code",
      "source": [
        "angry_df1 = pd.DataFrame(angry_arr1, columns = columnss)\n",
        "angry_df2 = pd.DataFrame(angry_arr2, columns = ['labels'])\n"
      ],
      "metadata": {
        "id": "fLyzcyddiSV6"
      },
      "execution_count": 38,
      "outputs": []
    },
    {
      "cell_type": "code",
      "source": [],
      "metadata": {
        "id": "0I16JtK6ii9y"
      },
      "execution_count": 38,
      "outputs": []
    },
    {
      "cell_type": "code",
      "source": [
        "angry_df = pd.concat([angry_df1, angry_df2], axis=1)\n",
        "print(f\"Shape => {angry_df.shape}\")\n",
        "angry_df.head(10)\n"
      ],
      "metadata": {
        "colab": {
          "base_uri": "https://localhost:8080/",
          "height": 475
        },
        "id": "2r0pQHlzALmU",
        "outputId": "4b4e050c-5dc6-4e8e-a7c7-87c813b8381b"
      },
      "execution_count": 39,
      "outputs": [
        {
          "output_type": "stream",
          "name": "stdout",
          "text": [
            "Shape => (3500, 59)\n"
          ]
        },
        {
          "output_type": "execute_result",
          "data": {
            "text/plain": [
              "            0          1          2         3          4          5  \\\n",
              "0 -218.408279  89.609619   8.133126  1.580972 -17.737360 -11.099880   \n",
              "1 -136.030924  46.708786  10.955061 -3.164763  -9.579086 -10.087949   \n",
              "2 -242.631882  85.266899   7.443476  1.622011 -18.424065 -11.341335   \n",
              "3 -215.903366  90.461716   8.284443  1.946910 -17.344501 -10.807262   \n",
              "4 -233.631577  82.928757   7.395226 -3.362676 -17.130716 -13.296722   \n",
              "5 -229.113022  86.834755   6.887513  1.487601 -19.202034 -11.680208   \n",
              "6 -240.734085  85.888313   8.567566  2.588866 -17.664787 -11.524142   \n",
              "7 -285.858459  77.239189  22.353344  3.882790  -8.543013 -11.135398   \n",
              "8 -109.982607  27.127776  11.035526 -0.022861  -3.503677  -7.824019   \n",
              "9 -320.114410  76.615532  22.640497  4.754137  -8.831723 -10.929656   \n",
              "\n",
              "           6          7         8         9  ...        49        50  \\\n",
              "0 -12.118981 -24.430010 -8.057720  3.553795  ... -7.759345 -0.760463   \n",
              "1 -10.916374 -14.685176 -7.747941 -1.831722  ... -5.728474 -1.152177   \n",
              "2 -12.473485 -25.206472 -8.635131  3.151859  ... -7.546924 -0.703264   \n",
              "3 -11.909176 -24.114471 -7.688408  3.794328  ... -7.777023 -0.712511   \n",
              "4 -12.074818 -29.563566 -0.225474 -4.093743  ...  5.471067  4.213591   \n",
              "5 -12.873122 -25.000948 -9.886301  3.792253  ... -8.102508 -0.225487   \n",
              "6 -13.247285 -25.589115 -9.155956  3.232950  ... -7.861843 -0.234687   \n",
              "7 -12.202709 -11.710052 -7.487711 -0.457158  ...  0.928688 -0.635874   \n",
              "8  -9.733263  -9.332496 -6.807141 -3.022467  ...  0.574358  1.060452   \n",
              "9 -12.485476 -12.446303 -8.399677 -0.082940  ...  0.935976 -0.337409   \n",
              "\n",
              "         51        52        53        54        55        56        57  \\\n",
              "0  1.189522  2.856884  1.696030  3.266346  3.770450  5.658118  0.262327   \n",
              "1  1.696793  2.130389  2.903233  3.550999  3.760762  4.143966  2.293359   \n",
              "2  1.238326  2.756898  1.744722  3.896428  3.928365  5.967909  0.325803   \n",
              "3  1.166173  2.781938  1.642865  3.132529  3.791940  5.648445  0.264331   \n",
              "4  3.849309  1.574458  4.505084  2.946588  3.856391 -0.525717  2.720252   \n",
              "5  1.288153  2.608241  1.475512  3.473511  3.826583  5.700944 -0.537519   \n",
              "6  1.496018  3.161862  1.826660  3.730582  4.320915  5.859002  0.117154   \n",
              "7 -0.001097 -0.282897  1.373844  0.300289 -0.519457  1.305690  1.977837   \n",
              "8  0.780849  0.234157  1.168330  0.937002  0.277934  1.138553  1.810622   \n",
              "9  0.213128 -0.319760  1.413499  0.374216 -0.198627  1.442469  2.303997   \n",
              "\n",
              "   labels  \n",
              "0   angry  \n",
              "1   angry  \n",
              "2   angry  \n",
              "3   angry  \n",
              "4   angry  \n",
              "5   angry  \n",
              "6   angry  \n",
              "7   angry  \n",
              "8   angry  \n",
              "9   angry  \n",
              "\n",
              "[10 rows x 59 columns]"
            ],
            "text/html": [
              "\n",
              "  <div id=\"df-09af5fa4-559c-4b9f-a31e-6483e93bbac5\">\n",
              "    <div class=\"colab-df-container\">\n",
              "      <div>\n",
              "<style scoped>\n",
              "    .dataframe tbody tr th:only-of-type {\n",
              "        vertical-align: middle;\n",
              "    }\n",
              "\n",
              "    .dataframe tbody tr th {\n",
              "        vertical-align: top;\n",
              "    }\n",
              "\n",
              "    .dataframe thead th {\n",
              "        text-align: right;\n",
              "    }\n",
              "</style>\n",
              "<table border=\"1\" class=\"dataframe\">\n",
              "  <thead>\n",
              "    <tr style=\"text-align: right;\">\n",
              "      <th></th>\n",
              "      <th>0</th>\n",
              "      <th>1</th>\n",
              "      <th>2</th>\n",
              "      <th>3</th>\n",
              "      <th>4</th>\n",
              "      <th>5</th>\n",
              "      <th>6</th>\n",
              "      <th>7</th>\n",
              "      <th>8</th>\n",
              "      <th>9</th>\n",
              "      <th>...</th>\n",
              "      <th>49</th>\n",
              "      <th>50</th>\n",
              "      <th>51</th>\n",
              "      <th>52</th>\n",
              "      <th>53</th>\n",
              "      <th>54</th>\n",
              "      <th>55</th>\n",
              "      <th>56</th>\n",
              "      <th>57</th>\n",
              "      <th>labels</th>\n",
              "    </tr>\n",
              "  </thead>\n",
              "  <tbody>\n",
              "    <tr>\n",
              "      <th>0</th>\n",
              "      <td>-218.408279</td>\n",
              "      <td>89.609619</td>\n",
              "      <td>8.133126</td>\n",
              "      <td>1.580972</td>\n",
              "      <td>-17.737360</td>\n",
              "      <td>-11.099880</td>\n",
              "      <td>-12.118981</td>\n",
              "      <td>-24.430010</td>\n",
              "      <td>-8.057720</td>\n",
              "      <td>3.553795</td>\n",
              "      <td>...</td>\n",
              "      <td>-7.759345</td>\n",
              "      <td>-0.760463</td>\n",
              "      <td>1.189522</td>\n",
              "      <td>2.856884</td>\n",
              "      <td>1.696030</td>\n",
              "      <td>3.266346</td>\n",
              "      <td>3.770450</td>\n",
              "      <td>5.658118</td>\n",
              "      <td>0.262327</td>\n",
              "      <td>angry</td>\n",
              "    </tr>\n",
              "    <tr>\n",
              "      <th>1</th>\n",
              "      <td>-136.030924</td>\n",
              "      <td>46.708786</td>\n",
              "      <td>10.955061</td>\n",
              "      <td>-3.164763</td>\n",
              "      <td>-9.579086</td>\n",
              "      <td>-10.087949</td>\n",
              "      <td>-10.916374</td>\n",
              "      <td>-14.685176</td>\n",
              "      <td>-7.747941</td>\n",
              "      <td>-1.831722</td>\n",
              "      <td>...</td>\n",
              "      <td>-5.728474</td>\n",
              "      <td>-1.152177</td>\n",
              "      <td>1.696793</td>\n",
              "      <td>2.130389</td>\n",
              "      <td>2.903233</td>\n",
              "      <td>3.550999</td>\n",
              "      <td>3.760762</td>\n",
              "      <td>4.143966</td>\n",
              "      <td>2.293359</td>\n",
              "      <td>angry</td>\n",
              "    </tr>\n",
              "    <tr>\n",
              "      <th>2</th>\n",
              "      <td>-242.631882</td>\n",
              "      <td>85.266899</td>\n",
              "      <td>7.443476</td>\n",
              "      <td>1.622011</td>\n",
              "      <td>-18.424065</td>\n",
              "      <td>-11.341335</td>\n",
              "      <td>-12.473485</td>\n",
              "      <td>-25.206472</td>\n",
              "      <td>-8.635131</td>\n",
              "      <td>3.151859</td>\n",
              "      <td>...</td>\n",
              "      <td>-7.546924</td>\n",
              "      <td>-0.703264</td>\n",
              "      <td>1.238326</td>\n",
              "      <td>2.756898</td>\n",
              "      <td>1.744722</td>\n",
              "      <td>3.896428</td>\n",
              "      <td>3.928365</td>\n",
              "      <td>5.967909</td>\n",
              "      <td>0.325803</td>\n",
              "      <td>angry</td>\n",
              "    </tr>\n",
              "    <tr>\n",
              "      <th>3</th>\n",
              "      <td>-215.903366</td>\n",
              "      <td>90.461716</td>\n",
              "      <td>8.284443</td>\n",
              "      <td>1.946910</td>\n",
              "      <td>-17.344501</td>\n",
              "      <td>-10.807262</td>\n",
              "      <td>-11.909176</td>\n",
              "      <td>-24.114471</td>\n",
              "      <td>-7.688408</td>\n",
              "      <td>3.794328</td>\n",
              "      <td>...</td>\n",
              "      <td>-7.777023</td>\n",
              "      <td>-0.712511</td>\n",
              "      <td>1.166173</td>\n",
              "      <td>2.781938</td>\n",
              "      <td>1.642865</td>\n",
              "      <td>3.132529</td>\n",
              "      <td>3.791940</td>\n",
              "      <td>5.648445</td>\n",
              "      <td>0.264331</td>\n",
              "      <td>angry</td>\n",
              "    </tr>\n",
              "    <tr>\n",
              "      <th>4</th>\n",
              "      <td>-233.631577</td>\n",
              "      <td>82.928757</td>\n",
              "      <td>7.395226</td>\n",
              "      <td>-3.362676</td>\n",
              "      <td>-17.130716</td>\n",
              "      <td>-13.296722</td>\n",
              "      <td>-12.074818</td>\n",
              "      <td>-29.563566</td>\n",
              "      <td>-0.225474</td>\n",
              "      <td>-4.093743</td>\n",
              "      <td>...</td>\n",
              "      <td>5.471067</td>\n",
              "      <td>4.213591</td>\n",
              "      <td>3.849309</td>\n",
              "      <td>1.574458</td>\n",
              "      <td>4.505084</td>\n",
              "      <td>2.946588</td>\n",
              "      <td>3.856391</td>\n",
              "      <td>-0.525717</td>\n",
              "      <td>2.720252</td>\n",
              "      <td>angry</td>\n",
              "    </tr>\n",
              "    <tr>\n",
              "      <th>5</th>\n",
              "      <td>-229.113022</td>\n",
              "      <td>86.834755</td>\n",
              "      <td>6.887513</td>\n",
              "      <td>1.487601</td>\n",
              "      <td>-19.202034</td>\n",
              "      <td>-11.680208</td>\n",
              "      <td>-12.873122</td>\n",
              "      <td>-25.000948</td>\n",
              "      <td>-9.886301</td>\n",
              "      <td>3.792253</td>\n",
              "      <td>...</td>\n",
              "      <td>-8.102508</td>\n",
              "      <td>-0.225487</td>\n",
              "      <td>1.288153</td>\n",
              "      <td>2.608241</td>\n",
              "      <td>1.475512</td>\n",
              "      <td>3.473511</td>\n",
              "      <td>3.826583</td>\n",
              "      <td>5.700944</td>\n",
              "      <td>-0.537519</td>\n",
              "      <td>angry</td>\n",
              "    </tr>\n",
              "    <tr>\n",
              "      <th>6</th>\n",
              "      <td>-240.734085</td>\n",
              "      <td>85.888313</td>\n",
              "      <td>8.567566</td>\n",
              "      <td>2.588866</td>\n",
              "      <td>-17.664787</td>\n",
              "      <td>-11.524142</td>\n",
              "      <td>-13.247285</td>\n",
              "      <td>-25.589115</td>\n",
              "      <td>-9.155956</td>\n",
              "      <td>3.232950</td>\n",
              "      <td>...</td>\n",
              "      <td>-7.861843</td>\n",
              "      <td>-0.234687</td>\n",
              "      <td>1.496018</td>\n",
              "      <td>3.161862</td>\n",
              "      <td>1.826660</td>\n",
              "      <td>3.730582</td>\n",
              "      <td>4.320915</td>\n",
              "      <td>5.859002</td>\n",
              "      <td>0.117154</td>\n",
              "      <td>angry</td>\n",
              "    </tr>\n",
              "    <tr>\n",
              "      <th>7</th>\n",
              "      <td>-285.858459</td>\n",
              "      <td>77.239189</td>\n",
              "      <td>22.353344</td>\n",
              "      <td>3.882790</td>\n",
              "      <td>-8.543013</td>\n",
              "      <td>-11.135398</td>\n",
              "      <td>-12.202709</td>\n",
              "      <td>-11.710052</td>\n",
              "      <td>-7.487711</td>\n",
              "      <td>-0.457158</td>\n",
              "      <td>...</td>\n",
              "      <td>0.928688</td>\n",
              "      <td>-0.635874</td>\n",
              "      <td>-0.001097</td>\n",
              "      <td>-0.282897</td>\n",
              "      <td>1.373844</td>\n",
              "      <td>0.300289</td>\n",
              "      <td>-0.519457</td>\n",
              "      <td>1.305690</td>\n",
              "      <td>1.977837</td>\n",
              "      <td>angry</td>\n",
              "    </tr>\n",
              "    <tr>\n",
              "      <th>8</th>\n",
              "      <td>-109.982607</td>\n",
              "      <td>27.127776</td>\n",
              "      <td>11.035526</td>\n",
              "      <td>-0.022861</td>\n",
              "      <td>-3.503677</td>\n",
              "      <td>-7.824019</td>\n",
              "      <td>-9.733263</td>\n",
              "      <td>-9.332496</td>\n",
              "      <td>-6.807141</td>\n",
              "      <td>-3.022467</td>\n",
              "      <td>...</td>\n",
              "      <td>0.574358</td>\n",
              "      <td>1.060452</td>\n",
              "      <td>0.780849</td>\n",
              "      <td>0.234157</td>\n",
              "      <td>1.168330</td>\n",
              "      <td>0.937002</td>\n",
              "      <td>0.277934</td>\n",
              "      <td>1.138553</td>\n",
              "      <td>1.810622</td>\n",
              "      <td>angry</td>\n",
              "    </tr>\n",
              "    <tr>\n",
              "      <th>9</th>\n",
              "      <td>-320.114410</td>\n",
              "      <td>76.615532</td>\n",
              "      <td>22.640497</td>\n",
              "      <td>4.754137</td>\n",
              "      <td>-8.831723</td>\n",
              "      <td>-10.929656</td>\n",
              "      <td>-12.485476</td>\n",
              "      <td>-12.446303</td>\n",
              "      <td>-8.399677</td>\n",
              "      <td>-0.082940</td>\n",
              "      <td>...</td>\n",
              "      <td>0.935976</td>\n",
              "      <td>-0.337409</td>\n",
              "      <td>0.213128</td>\n",
              "      <td>-0.319760</td>\n",
              "      <td>1.413499</td>\n",
              "      <td>0.374216</td>\n",
              "      <td>-0.198627</td>\n",
              "      <td>1.442469</td>\n",
              "      <td>2.303997</td>\n",
              "      <td>angry</td>\n",
              "    </tr>\n",
              "  </tbody>\n",
              "</table>\n",
              "<p>10 rows × 59 columns</p>\n",
              "</div>\n",
              "      <button class=\"colab-df-convert\" onclick=\"convertToInteractive('df-09af5fa4-559c-4b9f-a31e-6483e93bbac5')\"\n",
              "              title=\"Convert this dataframe to an interactive table.\"\n",
              "              style=\"display:none;\">\n",
              "        \n",
              "  <svg xmlns=\"http://www.w3.org/2000/svg\" height=\"24px\"viewBox=\"0 0 24 24\"\n",
              "       width=\"24px\">\n",
              "    <path d=\"M0 0h24v24H0V0z\" fill=\"none\"/>\n",
              "    <path d=\"M18.56 5.44l.94 2.06.94-2.06 2.06-.94-2.06-.94-.94-2.06-.94 2.06-2.06.94zm-11 1L8.5 8.5l.94-2.06 2.06-.94-2.06-.94L8.5 2.5l-.94 2.06-2.06.94zm10 10l.94 2.06.94-2.06 2.06-.94-2.06-.94-.94-2.06-.94 2.06-2.06.94z\"/><path d=\"M17.41 7.96l-1.37-1.37c-.4-.4-.92-.59-1.43-.59-.52 0-1.04.2-1.43.59L10.3 9.45l-7.72 7.72c-.78.78-.78 2.05 0 2.83L4 21.41c.39.39.9.59 1.41.59.51 0 1.02-.2 1.41-.59l7.78-7.78 2.81-2.81c.8-.78.8-2.07 0-2.86zM5.41 20L4 18.59l7.72-7.72 1.47 1.35L5.41 20z\"/>\n",
              "  </svg>\n",
              "      </button>\n",
              "      \n",
              "  <style>\n",
              "    .colab-df-container {\n",
              "      display:flex;\n",
              "      flex-wrap:wrap;\n",
              "      gap: 12px;\n",
              "    }\n",
              "\n",
              "    .colab-df-convert {\n",
              "      background-color: #E8F0FE;\n",
              "      border: none;\n",
              "      border-radius: 50%;\n",
              "      cursor: pointer;\n",
              "      display: none;\n",
              "      fill: #1967D2;\n",
              "      height: 32px;\n",
              "      padding: 0 0 0 0;\n",
              "      width: 32px;\n",
              "    }\n",
              "\n",
              "    .colab-df-convert:hover {\n",
              "      background-color: #E2EBFA;\n",
              "      box-shadow: 0px 1px 2px rgba(60, 64, 67, 0.3), 0px 1px 3px 1px rgba(60, 64, 67, 0.15);\n",
              "      fill: #174EA6;\n",
              "    }\n",
              "\n",
              "    [theme=dark] .colab-df-convert {\n",
              "      background-color: #3B4455;\n",
              "      fill: #D2E3FC;\n",
              "    }\n",
              "\n",
              "    [theme=dark] .colab-df-convert:hover {\n",
              "      background-color: #434B5C;\n",
              "      box-shadow: 0px 1px 3px 1px rgba(0, 0, 0, 0.15);\n",
              "      filter: drop-shadow(0px 1px 2px rgba(0, 0, 0, 0.3));\n",
              "      fill: #FFFFFF;\n",
              "    }\n",
              "  </style>\n",
              "\n",
              "      <script>\n",
              "        const buttonEl =\n",
              "          document.querySelector('#df-09af5fa4-559c-4b9f-a31e-6483e93bbac5 button.colab-df-convert');\n",
              "        buttonEl.style.display =\n",
              "          google.colab.kernel.accessAllowed ? 'block' : 'none';\n",
              "\n",
              "        async function convertToInteractive(key) {\n",
              "          const element = document.querySelector('#df-09af5fa4-559c-4b9f-a31e-6483e93bbac5');\n",
              "          const dataTable =\n",
              "            await google.colab.kernel.invokeFunction('convertToInteractive',\n",
              "                                                     [key], {});\n",
              "          if (!dataTable) return;\n",
              "\n",
              "          const docLinkHtml = 'Like what you see? Visit the ' +\n",
              "            '<a target=\"_blank\" href=https://colab.research.google.com/notebooks/data_table.ipynb>data table notebook</a>'\n",
              "            + ' to learn more about interactive tables.';\n",
              "          element.innerHTML = '';\n",
              "          dataTable['output_type'] = 'display_data';\n",
              "          await google.colab.output.renderOutput(dataTable, element);\n",
              "          const docLink = document.createElement('div');\n",
              "          docLink.innerHTML = docLinkHtml;\n",
              "          element.appendChild(docLink);\n",
              "        }\n",
              "      </script>\n",
              "    </div>\n",
              "  </div>\n",
              "  "
            ]
          },
          "metadata": {},
          "execution_count": 39
        }
      ]
    },
    {
      "cell_type": "code",
      "source": [
        "#Feature Extraction for MIX Dataset\n",
        "mixList =[]\n",
        "mixLabels =[]\n",
        "for index,row in MIX_EMOTIONS_df.iterrows():\n",
        "    normal = get_features1(row['path'])\n",
        "    noised = get_features2(row['path'])\n",
        "    stretched = get_features3(row['path'])\n",
        "    shifted = get_features4(row['path'])\n",
        "    pitched = get_features5(row['path'])\n",
        "    speed_up = get_features6(row['path'])\n",
        "    speed_down = get_features7(row['path'])\n",
        "\n",
        "\n",
        "    mixLabels.append(row['labels'])\n",
        "    mixLabels.append(row['labels'])\n",
        "    mixLabels.append(row['labels'])\n",
        "    mixLabels.append(row['labels'])\n",
        "    mixLabels.append(row['labels'])\n",
        "    mixLabels.append(row['labels'])\n",
        "    mixLabels.append(row['labels'])\n",
        "\n",
        "    mixList.append(normal)\n",
        "    mixList.append(noised)\n",
        "    mixList.append(stretched)\n",
        "    mixList.append(shifted)\n",
        "    mixList.append(pitched)\n",
        "    mixList.append(speed_up)\n",
        "    mixList.append(speed_down)\n",
        "\n",
        "print(mixList)"
      ],
      "metadata": {
        "colab": {
          "base_uri": "https://localhost:8080/"
        },
        "id": "WsAXgCEDgIzo",
        "outputId": "76bd11e4-8d4f-4a0d-c61c-1b30099c5c27"
      },
      "execution_count": 40,
      "outputs": [
        {
          "output_type": "stream",
          "name": "stderr",
          "text": [
            "IOPub data rate exceeded.\n",
            "The notebook server will temporarily stop sending output\n",
            "to the client in order to avoid crashing it.\n",
            "To change this limit, set the config variable\n",
            "`--NotebookApp.iopub_data_rate_limit`.\n",
            "\n",
            "Current values:\n",
            "NotebookApp.iopub_data_rate_limit=1000000.0 (bytes/sec)\n",
            "NotebookApp.rate_limit_window=3.0 (secs)\n",
            "\n"
          ]
        }
      ]
    },
    {
      "cell_type": "code",
      "source": [
        "mix_arr1 = np.array(mixList)\n",
        "mix_arr1.shape"
      ],
      "metadata": {
        "colab": {
          "base_uri": "https://localhost:8080/"
        },
        "id": "xKHE5G_egNqV",
        "outputId": "cc788f84-aa7b-431f-95c2-7069b402e9de"
      },
      "execution_count": 41,
      "outputs": [
        {
          "output_type": "execute_result",
          "data": {
            "text/plain": [
              "(3500, 58)"
            ]
          },
          "metadata": {},
          "execution_count": 41
        }
      ]
    },
    {
      "cell_type": "code",
      "source": [
        "mix_arr2 = np.array(mixLabels)\n",
        "mix_arr2.shape"
      ],
      "metadata": {
        "id": "0_v9zyJ9gQlW",
        "colab": {
          "base_uri": "https://localhost:8080/"
        },
        "outputId": "f99a888e-1fc4-4487-c290-2528b3be25c9"
      },
      "execution_count": 42,
      "outputs": [
        {
          "output_type": "execute_result",
          "data": {
            "text/plain": [
              "(3500,)"
            ]
          },
          "metadata": {},
          "execution_count": 42
        }
      ]
    },
    {
      "cell_type": "code",
      "source": [
        "mix_df1 = pd.DataFrame(mix_arr1, columns = columnss)\n",
        "mix_df2 = pd.DataFrame(mix_arr2, columns = ['labels'])\n"
      ],
      "metadata": {
        "id": "PhPQS2JigUJV"
      },
      "execution_count": 43,
      "outputs": []
    },
    {
      "cell_type": "code",
      "source": [
        "mix_df = pd.concat([mix_df1, mix_df2], axis=1)\n",
        "print(f\"Shape => {mix_df.shape}\")\n",
        "mix_df.head(10)\n"
      ],
      "metadata": {
        "colab": {
          "base_uri": "https://localhost:8080/",
          "height": 475
        },
        "id": "IBaGxkfsgW6u",
        "outputId": "a89bf655-2286-4512-9f2e-f6b4e9650c8d"
      },
      "execution_count": 44,
      "outputs": [
        {
          "output_type": "stream",
          "name": "stdout",
          "text": [
            "Shape => (3500, 59)\n"
          ]
        },
        {
          "output_type": "execute_result",
          "data": {
            "text/plain": [
              "            0          1          2         3          4         5         6  \\\n",
              "0 -268.964172  88.563850  23.945496  3.226859 -20.652920 -5.739452 -5.119088   \n",
              "1  -85.339680  21.072613   9.509619 -1.632202  -4.728098 -5.117290 -5.569735   \n",
              "2 -293.362366  84.062012  23.449665  2.568943 -22.378632 -7.345531 -6.001596   \n",
              "3 -267.462006  88.952316  23.987778  3.153672 -20.947386 -5.834735 -5.241616   \n",
              "4 -286.398712  83.304268  24.231792 -3.770085 -21.899042 -8.543906 -3.638446   \n",
              "5 -280.754059  87.966438  21.318800  3.160159 -24.610958 -7.282392 -7.302340   \n",
              "6 -294.035706  86.172417  22.420582  3.463526 -22.672367 -6.862576 -5.467881   \n",
              "7 -247.431793  89.571938  17.348265  6.263657 -18.046486 -3.189735 -4.423556   \n",
              "8 -108.834886  30.342219  12.265962 -1.914460  -5.963599 -5.288530 -6.007252   \n",
              "9 -275.748596  86.357018  16.757778  7.399684 -18.575003 -3.725466 -5.845121   \n",
              "\n",
              "           7          8         9  ...        49        50        51  \\\n",
              "0 -18.069389  -7.547616  2.528581  ... -6.891440 -1.975196 -0.814174   \n",
              "1  -5.696185  -4.174489 -2.672450  ... -2.985018 -1.857114 -0.553190   \n",
              "2 -19.031710  -8.145925  2.579014  ... -7.503695 -2.078730 -0.848314   \n",
              "3 -18.242081  -7.630676  2.571230  ... -6.799300 -1.834709 -0.806444   \n",
              "4 -23.512203  -1.363738 -5.222819  ...  3.724086  1.549605  4.303769   \n",
              "5 -20.346470 -10.115443  2.792893  ... -6.775517 -1.122815  0.185403   \n",
              "6 -19.026430  -8.562423  2.212870  ... -6.928514 -1.536294 -0.371016   \n",
              "7 -15.923308  -8.607189 -1.306108  ... -5.088294 -0.031350 -4.003529   \n",
              "8  -6.428766  -6.865488 -3.970180  ... -2.815724 -1.594064 -3.148848   \n",
              "9 -16.566936  -9.755218 -1.136977  ... -5.273774  0.500285 -3.969536   \n",
              "\n",
              "         52        53        54        55        56        57  labels  \n",
              "0  2.330410  0.905303  1.270079 -0.489731  3.294400 -1.155483     mix  \n",
              "1  0.902319  1.939122  1.994861  0.953123  1.267355  0.858625     mix  \n",
              "2  2.328003  0.245972  1.165855 -0.296342  3.779377 -1.099319     mix  \n",
              "3  2.324965  0.939714  1.206893 -0.558805  3.304545 -1.045517     mix  \n",
              "4 -1.397289  0.512799 -1.256078  2.586704 -1.359968  1.188532     mix  \n",
              "5  2.580805  1.178834  1.833868 -0.363645  3.126567 -0.660244     mix  \n",
              "6  2.592239  0.255805  0.973183 -0.788198  3.342515 -1.041438     mix  \n",
              "7 -3.190965 -4.481926 -0.531589 -0.967070  2.660663  1.909537     mix  \n",
              "8 -3.876427 -3.511411 -1.110577  0.293639  2.004567  3.559095     mix  \n",
              "9 -3.039028 -4.401725 -0.018044 -0.542891  2.660623  2.117988     mix  \n",
              "\n",
              "[10 rows x 59 columns]"
            ],
            "text/html": [
              "\n",
              "  <div id=\"df-2ef35727-e9e0-4f78-a123-cb3d9818de23\">\n",
              "    <div class=\"colab-df-container\">\n",
              "      <div>\n",
              "<style scoped>\n",
              "    .dataframe tbody tr th:only-of-type {\n",
              "        vertical-align: middle;\n",
              "    }\n",
              "\n",
              "    .dataframe tbody tr th {\n",
              "        vertical-align: top;\n",
              "    }\n",
              "\n",
              "    .dataframe thead th {\n",
              "        text-align: right;\n",
              "    }\n",
              "</style>\n",
              "<table border=\"1\" class=\"dataframe\">\n",
              "  <thead>\n",
              "    <tr style=\"text-align: right;\">\n",
              "      <th></th>\n",
              "      <th>0</th>\n",
              "      <th>1</th>\n",
              "      <th>2</th>\n",
              "      <th>3</th>\n",
              "      <th>4</th>\n",
              "      <th>5</th>\n",
              "      <th>6</th>\n",
              "      <th>7</th>\n",
              "      <th>8</th>\n",
              "      <th>9</th>\n",
              "      <th>...</th>\n",
              "      <th>49</th>\n",
              "      <th>50</th>\n",
              "      <th>51</th>\n",
              "      <th>52</th>\n",
              "      <th>53</th>\n",
              "      <th>54</th>\n",
              "      <th>55</th>\n",
              "      <th>56</th>\n",
              "      <th>57</th>\n",
              "      <th>labels</th>\n",
              "    </tr>\n",
              "  </thead>\n",
              "  <tbody>\n",
              "    <tr>\n",
              "      <th>0</th>\n",
              "      <td>-268.964172</td>\n",
              "      <td>88.563850</td>\n",
              "      <td>23.945496</td>\n",
              "      <td>3.226859</td>\n",
              "      <td>-20.652920</td>\n",
              "      <td>-5.739452</td>\n",
              "      <td>-5.119088</td>\n",
              "      <td>-18.069389</td>\n",
              "      <td>-7.547616</td>\n",
              "      <td>2.528581</td>\n",
              "      <td>...</td>\n",
              "      <td>-6.891440</td>\n",
              "      <td>-1.975196</td>\n",
              "      <td>-0.814174</td>\n",
              "      <td>2.330410</td>\n",
              "      <td>0.905303</td>\n",
              "      <td>1.270079</td>\n",
              "      <td>-0.489731</td>\n",
              "      <td>3.294400</td>\n",
              "      <td>-1.155483</td>\n",
              "      <td>mix</td>\n",
              "    </tr>\n",
              "    <tr>\n",
              "      <th>1</th>\n",
              "      <td>-85.339680</td>\n",
              "      <td>21.072613</td>\n",
              "      <td>9.509619</td>\n",
              "      <td>-1.632202</td>\n",
              "      <td>-4.728098</td>\n",
              "      <td>-5.117290</td>\n",
              "      <td>-5.569735</td>\n",
              "      <td>-5.696185</td>\n",
              "      <td>-4.174489</td>\n",
              "      <td>-2.672450</td>\n",
              "      <td>...</td>\n",
              "      <td>-2.985018</td>\n",
              "      <td>-1.857114</td>\n",
              "      <td>-0.553190</td>\n",
              "      <td>0.902319</td>\n",
              "      <td>1.939122</td>\n",
              "      <td>1.994861</td>\n",
              "      <td>0.953123</td>\n",
              "      <td>1.267355</td>\n",
              "      <td>0.858625</td>\n",
              "      <td>mix</td>\n",
              "    </tr>\n",
              "    <tr>\n",
              "      <th>2</th>\n",
              "      <td>-293.362366</td>\n",
              "      <td>84.062012</td>\n",
              "      <td>23.449665</td>\n",
              "      <td>2.568943</td>\n",
              "      <td>-22.378632</td>\n",
              "      <td>-7.345531</td>\n",
              "      <td>-6.001596</td>\n",
              "      <td>-19.031710</td>\n",
              "      <td>-8.145925</td>\n",
              "      <td>2.579014</td>\n",
              "      <td>...</td>\n",
              "      <td>-7.503695</td>\n",
              "      <td>-2.078730</td>\n",
              "      <td>-0.848314</td>\n",
              "      <td>2.328003</td>\n",
              "      <td>0.245972</td>\n",
              "      <td>1.165855</td>\n",
              "      <td>-0.296342</td>\n",
              "      <td>3.779377</td>\n",
              "      <td>-1.099319</td>\n",
              "      <td>mix</td>\n",
              "    </tr>\n",
              "    <tr>\n",
              "      <th>3</th>\n",
              "      <td>-267.462006</td>\n",
              "      <td>88.952316</td>\n",
              "      <td>23.987778</td>\n",
              "      <td>3.153672</td>\n",
              "      <td>-20.947386</td>\n",
              "      <td>-5.834735</td>\n",
              "      <td>-5.241616</td>\n",
              "      <td>-18.242081</td>\n",
              "      <td>-7.630676</td>\n",
              "      <td>2.571230</td>\n",
              "      <td>...</td>\n",
              "      <td>-6.799300</td>\n",
              "      <td>-1.834709</td>\n",
              "      <td>-0.806444</td>\n",
              "      <td>2.324965</td>\n",
              "      <td>0.939714</td>\n",
              "      <td>1.206893</td>\n",
              "      <td>-0.558805</td>\n",
              "      <td>3.304545</td>\n",
              "      <td>-1.045517</td>\n",
              "      <td>mix</td>\n",
              "    </tr>\n",
              "    <tr>\n",
              "      <th>4</th>\n",
              "      <td>-286.398712</td>\n",
              "      <td>83.304268</td>\n",
              "      <td>24.231792</td>\n",
              "      <td>-3.770085</td>\n",
              "      <td>-21.899042</td>\n",
              "      <td>-8.543906</td>\n",
              "      <td>-3.638446</td>\n",
              "      <td>-23.512203</td>\n",
              "      <td>-1.363738</td>\n",
              "      <td>-5.222819</td>\n",
              "      <td>...</td>\n",
              "      <td>3.724086</td>\n",
              "      <td>1.549605</td>\n",
              "      <td>4.303769</td>\n",
              "      <td>-1.397289</td>\n",
              "      <td>0.512799</td>\n",
              "      <td>-1.256078</td>\n",
              "      <td>2.586704</td>\n",
              "      <td>-1.359968</td>\n",
              "      <td>1.188532</td>\n",
              "      <td>mix</td>\n",
              "    </tr>\n",
              "    <tr>\n",
              "      <th>5</th>\n",
              "      <td>-280.754059</td>\n",
              "      <td>87.966438</td>\n",
              "      <td>21.318800</td>\n",
              "      <td>3.160159</td>\n",
              "      <td>-24.610958</td>\n",
              "      <td>-7.282392</td>\n",
              "      <td>-7.302340</td>\n",
              "      <td>-20.346470</td>\n",
              "      <td>-10.115443</td>\n",
              "      <td>2.792893</td>\n",
              "      <td>...</td>\n",
              "      <td>-6.775517</td>\n",
              "      <td>-1.122815</td>\n",
              "      <td>0.185403</td>\n",
              "      <td>2.580805</td>\n",
              "      <td>1.178834</td>\n",
              "      <td>1.833868</td>\n",
              "      <td>-0.363645</td>\n",
              "      <td>3.126567</td>\n",
              "      <td>-0.660244</td>\n",
              "      <td>mix</td>\n",
              "    </tr>\n",
              "    <tr>\n",
              "      <th>6</th>\n",
              "      <td>-294.035706</td>\n",
              "      <td>86.172417</td>\n",
              "      <td>22.420582</td>\n",
              "      <td>3.463526</td>\n",
              "      <td>-22.672367</td>\n",
              "      <td>-6.862576</td>\n",
              "      <td>-5.467881</td>\n",
              "      <td>-19.026430</td>\n",
              "      <td>-8.562423</td>\n",
              "      <td>2.212870</td>\n",
              "      <td>...</td>\n",
              "      <td>-6.928514</td>\n",
              "      <td>-1.536294</td>\n",
              "      <td>-0.371016</td>\n",
              "      <td>2.592239</td>\n",
              "      <td>0.255805</td>\n",
              "      <td>0.973183</td>\n",
              "      <td>-0.788198</td>\n",
              "      <td>3.342515</td>\n",
              "      <td>-1.041438</td>\n",
              "      <td>mix</td>\n",
              "    </tr>\n",
              "    <tr>\n",
              "      <th>7</th>\n",
              "      <td>-247.431793</td>\n",
              "      <td>89.571938</td>\n",
              "      <td>17.348265</td>\n",
              "      <td>6.263657</td>\n",
              "      <td>-18.046486</td>\n",
              "      <td>-3.189735</td>\n",
              "      <td>-4.423556</td>\n",
              "      <td>-15.923308</td>\n",
              "      <td>-8.607189</td>\n",
              "      <td>-1.306108</td>\n",
              "      <td>...</td>\n",
              "      <td>-5.088294</td>\n",
              "      <td>-0.031350</td>\n",
              "      <td>-4.003529</td>\n",
              "      <td>-3.190965</td>\n",
              "      <td>-4.481926</td>\n",
              "      <td>-0.531589</td>\n",
              "      <td>-0.967070</td>\n",
              "      <td>2.660663</td>\n",
              "      <td>1.909537</td>\n",
              "      <td>mix</td>\n",
              "    </tr>\n",
              "    <tr>\n",
              "      <th>8</th>\n",
              "      <td>-108.834886</td>\n",
              "      <td>30.342219</td>\n",
              "      <td>12.265962</td>\n",
              "      <td>-1.914460</td>\n",
              "      <td>-5.963599</td>\n",
              "      <td>-5.288530</td>\n",
              "      <td>-6.007252</td>\n",
              "      <td>-6.428766</td>\n",
              "      <td>-6.865488</td>\n",
              "      <td>-3.970180</td>\n",
              "      <td>...</td>\n",
              "      <td>-2.815724</td>\n",
              "      <td>-1.594064</td>\n",
              "      <td>-3.148848</td>\n",
              "      <td>-3.876427</td>\n",
              "      <td>-3.511411</td>\n",
              "      <td>-1.110577</td>\n",
              "      <td>0.293639</td>\n",
              "      <td>2.004567</td>\n",
              "      <td>3.559095</td>\n",
              "      <td>mix</td>\n",
              "    </tr>\n",
              "    <tr>\n",
              "      <th>9</th>\n",
              "      <td>-275.748596</td>\n",
              "      <td>86.357018</td>\n",
              "      <td>16.757778</td>\n",
              "      <td>7.399684</td>\n",
              "      <td>-18.575003</td>\n",
              "      <td>-3.725466</td>\n",
              "      <td>-5.845121</td>\n",
              "      <td>-16.566936</td>\n",
              "      <td>-9.755218</td>\n",
              "      <td>-1.136977</td>\n",
              "      <td>...</td>\n",
              "      <td>-5.273774</td>\n",
              "      <td>0.500285</td>\n",
              "      <td>-3.969536</td>\n",
              "      <td>-3.039028</td>\n",
              "      <td>-4.401725</td>\n",
              "      <td>-0.018044</td>\n",
              "      <td>-0.542891</td>\n",
              "      <td>2.660623</td>\n",
              "      <td>2.117988</td>\n",
              "      <td>mix</td>\n",
              "    </tr>\n",
              "  </tbody>\n",
              "</table>\n",
              "<p>10 rows × 59 columns</p>\n",
              "</div>\n",
              "      <button class=\"colab-df-convert\" onclick=\"convertToInteractive('df-2ef35727-e9e0-4f78-a123-cb3d9818de23')\"\n",
              "              title=\"Convert this dataframe to an interactive table.\"\n",
              "              style=\"display:none;\">\n",
              "        \n",
              "  <svg xmlns=\"http://www.w3.org/2000/svg\" height=\"24px\"viewBox=\"0 0 24 24\"\n",
              "       width=\"24px\">\n",
              "    <path d=\"M0 0h24v24H0V0z\" fill=\"none\"/>\n",
              "    <path d=\"M18.56 5.44l.94 2.06.94-2.06 2.06-.94-2.06-.94-.94-2.06-.94 2.06-2.06.94zm-11 1L8.5 8.5l.94-2.06 2.06-.94-2.06-.94L8.5 2.5l-.94 2.06-2.06.94zm10 10l.94 2.06.94-2.06 2.06-.94-2.06-.94-.94-2.06-.94 2.06-2.06.94z\"/><path d=\"M17.41 7.96l-1.37-1.37c-.4-.4-.92-.59-1.43-.59-.52 0-1.04.2-1.43.59L10.3 9.45l-7.72 7.72c-.78.78-.78 2.05 0 2.83L4 21.41c.39.39.9.59 1.41.59.51 0 1.02-.2 1.41-.59l7.78-7.78 2.81-2.81c.8-.78.8-2.07 0-2.86zM5.41 20L4 18.59l7.72-7.72 1.47 1.35L5.41 20z\"/>\n",
              "  </svg>\n",
              "      </button>\n",
              "      \n",
              "  <style>\n",
              "    .colab-df-container {\n",
              "      display:flex;\n",
              "      flex-wrap:wrap;\n",
              "      gap: 12px;\n",
              "    }\n",
              "\n",
              "    .colab-df-convert {\n",
              "      background-color: #E8F0FE;\n",
              "      border: none;\n",
              "      border-radius: 50%;\n",
              "      cursor: pointer;\n",
              "      display: none;\n",
              "      fill: #1967D2;\n",
              "      height: 32px;\n",
              "      padding: 0 0 0 0;\n",
              "      width: 32px;\n",
              "    }\n",
              "\n",
              "    .colab-df-convert:hover {\n",
              "      background-color: #E2EBFA;\n",
              "      box-shadow: 0px 1px 2px rgba(60, 64, 67, 0.3), 0px 1px 3px 1px rgba(60, 64, 67, 0.15);\n",
              "      fill: #174EA6;\n",
              "    }\n",
              "\n",
              "    [theme=dark] .colab-df-convert {\n",
              "      background-color: #3B4455;\n",
              "      fill: #D2E3FC;\n",
              "    }\n",
              "\n",
              "    [theme=dark] .colab-df-convert:hover {\n",
              "      background-color: #434B5C;\n",
              "      box-shadow: 0px 1px 3px 1px rgba(0, 0, 0, 0.15);\n",
              "      filter: drop-shadow(0px 1px 2px rgba(0, 0, 0, 0.3));\n",
              "      fill: #FFFFFF;\n",
              "    }\n",
              "  </style>\n",
              "\n",
              "      <script>\n",
              "        const buttonEl =\n",
              "          document.querySelector('#df-2ef35727-e9e0-4f78-a123-cb3d9818de23 button.colab-df-convert');\n",
              "        buttonEl.style.display =\n",
              "          google.colab.kernel.accessAllowed ? 'block' : 'none';\n",
              "\n",
              "        async function convertToInteractive(key) {\n",
              "          const element = document.querySelector('#df-2ef35727-e9e0-4f78-a123-cb3d9818de23');\n",
              "          const dataTable =\n",
              "            await google.colab.kernel.invokeFunction('convertToInteractive',\n",
              "                                                     [key], {});\n",
              "          if (!dataTable) return;\n",
              "\n",
              "          const docLinkHtml = 'Like what you see? Visit the ' +\n",
              "            '<a target=\"_blank\" href=https://colab.research.google.com/notebooks/data_table.ipynb>data table notebook</a>'\n",
              "            + ' to learn more about interactive tables.';\n",
              "          element.innerHTML = '';\n",
              "          dataTable['output_type'] = 'display_data';\n",
              "          await google.colab.output.renderOutput(dataTable, element);\n",
              "          const docLink = document.createElement('div');\n",
              "          docLink.innerHTML = docLinkHtml;\n",
              "          element.appendChild(docLink);\n",
              "        }\n",
              "      </script>\n",
              "    </div>\n",
              "  </div>\n",
              "  "
            ]
          },
          "metadata": {},
          "execution_count": 44
        }
      ]
    },
    {
      "cell_type": "code",
      "source": [
        "angry_df['labels'].unique()"
      ],
      "metadata": {
        "id": "OA007NR3jfav",
        "colab": {
          "base_uri": "https://localhost:8080/"
        },
        "outputId": "31190e6d-f100-4f53-e5e7-95acb8577248"
      },
      "execution_count": 45,
      "outputs": [
        {
          "output_type": "execute_result",
          "data": {
            "text/plain": [
              "array(['angry'], dtype=object)"
            ]
          },
          "metadata": {},
          "execution_count": 45
        }
      ]
    },
    {
      "cell_type": "code",
      "source": [
        "mix_df['labels'].unique()"
      ],
      "metadata": {
        "colab": {
          "base_uri": "https://localhost:8080/"
        },
        "id": "jR8wojHtjmAm",
        "outputId": "ee33e692-8017-41c0-e726-9cc4a4aa7cbb"
      },
      "execution_count": 46,
      "outputs": [
        {
          "output_type": "execute_result",
          "data": {
            "text/plain": [
              "array(['mix'], dtype=object)"
            ]
          },
          "metadata": {},
          "execution_count": 46
        }
      ]
    },
    {
      "cell_type": "code",
      "source": [
        "combined_df = pd.concat([angry_df, mix_df], ignore_index = True, sort = False)\n",
        "combined_df"
      ],
      "metadata": {
        "colab": {
          "base_uri": "https://localhost:8080/",
          "height": 487
        },
        "id": "wRWRVOULjmBn",
        "outputId": "8196c529-5918-4342-e34d-d3f571707211"
      },
      "execution_count": 47,
      "outputs": [
        {
          "output_type": "execute_result",
          "data": {
            "text/plain": [
              "               0           1          2          3          4          5  \\\n",
              "0    -218.408279   89.609619   8.133126   1.580972 -17.737360 -11.099880   \n",
              "1    -136.030924   46.708786  10.955061  -3.164763  -9.579086 -10.087949   \n",
              "2    -242.631882   85.266899   7.443476   1.622011 -18.424065 -11.341335   \n",
              "3    -215.903366   90.461716   8.284443   1.946910 -17.344501 -10.807262   \n",
              "4    -233.631577   82.928757   7.395226  -3.362676 -17.130716 -13.296722   \n",
              "...          ...         ...        ...        ...        ...        ...   \n",
              "6995 -441.944611  112.935402 -19.858946  23.183905 -12.603999   1.267367   \n",
              "6996 -403.788147  110.921272 -15.269825  20.774874 -10.816345   1.913578   \n",
              "6997 -430.183899  104.442825 -17.769402  20.855019 -13.495803   2.540602   \n",
              "6998 -430.836609  106.474854 -17.319883  22.115353 -13.190195   1.402933   \n",
              "6999 -443.350616  114.332077 -20.911938  23.524368 -12.267157   1.873939   \n",
              "\n",
              "              6          7         8         9  ...        49        50  \\\n",
              "0    -12.118981 -24.430010 -8.057720  3.553795  ... -7.759345 -0.760463   \n",
              "1    -10.916374 -14.685176 -7.747941 -1.831722  ... -5.728474 -1.152177   \n",
              "2    -12.473485 -25.206472 -8.635131  3.151859  ... -7.546924 -0.703264   \n",
              "3    -11.909176 -24.114471 -7.688408  3.794328  ... -7.777023 -0.712511   \n",
              "4    -12.074818 -29.563566 -0.225474 -4.093743  ...  5.471067  4.213591   \n",
              "...         ...        ...       ...       ...  ...       ...       ...   \n",
              "6995  -4.776269  -9.695309  8.398093 -3.274715  ...  0.030940 -2.526158   \n",
              "6996  -3.436296  -7.871118  7.963537 -3.942189  ... -0.601585 -2.639119   \n",
              "6997  -6.131321  -7.374632  9.368458 -7.384371  ... -5.615122 -2.988879   \n",
              "6998  -4.599054 -10.318637  7.260669 -2.994003  ...  0.199268 -2.543006   \n",
              "6999  -4.560661  -9.454199  8.228064 -3.778198  ... -0.509256 -2.836668   \n",
              "\n",
              "            51        52        53        54        55        56        57  \\\n",
              "0     1.189522  2.856884  1.696030  3.266346  3.770450  5.658118  0.262327   \n",
              "1     1.696793  2.130389  2.903233  3.550999  3.760762  4.143966  2.293359   \n",
              "2     1.238326  2.756898  1.744722  3.896428  3.928365  5.967909  0.325803   \n",
              "3     1.166173  2.781938  1.642865  3.132529  3.791940  5.648445  0.264331   \n",
              "4     3.849309  1.574458  4.505084  2.946588  3.856391 -0.525717  2.720252   \n",
              "...        ...       ...       ...       ...       ...       ...       ...   \n",
              "6995 -5.422008 -3.624665  2.022164  0.290056  1.249321  2.775069  3.110826   \n",
              "6996 -4.765911 -2.792643  1.794485  0.630285  1.523516  1.914916  2.091741   \n",
              "6997  0.610555  5.001388 -0.048635  0.531167  1.591043 -0.805804 -1.230404   \n",
              "6998 -5.319841 -3.497963  1.908576  0.234726  1.187492  2.734885  3.225192   \n",
              "6999 -5.596428 -3.454354  2.430760  0.993945  1.320323  1.642015  2.096454   \n",
              "\n",
              "      labels  \n",
              "0      angry  \n",
              "1      angry  \n",
              "2      angry  \n",
              "3      angry  \n",
              "4      angry  \n",
              "...      ...  \n",
              "6995     mix  \n",
              "6996     mix  \n",
              "6997     mix  \n",
              "6998     mix  \n",
              "6999     mix  \n",
              "\n",
              "[7000 rows x 59 columns]"
            ],
            "text/html": [
              "\n",
              "  <div id=\"df-92596156-636a-4d5e-abed-116ae179c52e\">\n",
              "    <div class=\"colab-df-container\">\n",
              "      <div>\n",
              "<style scoped>\n",
              "    .dataframe tbody tr th:only-of-type {\n",
              "        vertical-align: middle;\n",
              "    }\n",
              "\n",
              "    .dataframe tbody tr th {\n",
              "        vertical-align: top;\n",
              "    }\n",
              "\n",
              "    .dataframe thead th {\n",
              "        text-align: right;\n",
              "    }\n",
              "</style>\n",
              "<table border=\"1\" class=\"dataframe\">\n",
              "  <thead>\n",
              "    <tr style=\"text-align: right;\">\n",
              "      <th></th>\n",
              "      <th>0</th>\n",
              "      <th>1</th>\n",
              "      <th>2</th>\n",
              "      <th>3</th>\n",
              "      <th>4</th>\n",
              "      <th>5</th>\n",
              "      <th>6</th>\n",
              "      <th>7</th>\n",
              "      <th>8</th>\n",
              "      <th>9</th>\n",
              "      <th>...</th>\n",
              "      <th>49</th>\n",
              "      <th>50</th>\n",
              "      <th>51</th>\n",
              "      <th>52</th>\n",
              "      <th>53</th>\n",
              "      <th>54</th>\n",
              "      <th>55</th>\n",
              "      <th>56</th>\n",
              "      <th>57</th>\n",
              "      <th>labels</th>\n",
              "    </tr>\n",
              "  </thead>\n",
              "  <tbody>\n",
              "    <tr>\n",
              "      <th>0</th>\n",
              "      <td>-218.408279</td>\n",
              "      <td>89.609619</td>\n",
              "      <td>8.133126</td>\n",
              "      <td>1.580972</td>\n",
              "      <td>-17.737360</td>\n",
              "      <td>-11.099880</td>\n",
              "      <td>-12.118981</td>\n",
              "      <td>-24.430010</td>\n",
              "      <td>-8.057720</td>\n",
              "      <td>3.553795</td>\n",
              "      <td>...</td>\n",
              "      <td>-7.759345</td>\n",
              "      <td>-0.760463</td>\n",
              "      <td>1.189522</td>\n",
              "      <td>2.856884</td>\n",
              "      <td>1.696030</td>\n",
              "      <td>3.266346</td>\n",
              "      <td>3.770450</td>\n",
              "      <td>5.658118</td>\n",
              "      <td>0.262327</td>\n",
              "      <td>angry</td>\n",
              "    </tr>\n",
              "    <tr>\n",
              "      <th>1</th>\n",
              "      <td>-136.030924</td>\n",
              "      <td>46.708786</td>\n",
              "      <td>10.955061</td>\n",
              "      <td>-3.164763</td>\n",
              "      <td>-9.579086</td>\n",
              "      <td>-10.087949</td>\n",
              "      <td>-10.916374</td>\n",
              "      <td>-14.685176</td>\n",
              "      <td>-7.747941</td>\n",
              "      <td>-1.831722</td>\n",
              "      <td>...</td>\n",
              "      <td>-5.728474</td>\n",
              "      <td>-1.152177</td>\n",
              "      <td>1.696793</td>\n",
              "      <td>2.130389</td>\n",
              "      <td>2.903233</td>\n",
              "      <td>3.550999</td>\n",
              "      <td>3.760762</td>\n",
              "      <td>4.143966</td>\n",
              "      <td>2.293359</td>\n",
              "      <td>angry</td>\n",
              "    </tr>\n",
              "    <tr>\n",
              "      <th>2</th>\n",
              "      <td>-242.631882</td>\n",
              "      <td>85.266899</td>\n",
              "      <td>7.443476</td>\n",
              "      <td>1.622011</td>\n",
              "      <td>-18.424065</td>\n",
              "      <td>-11.341335</td>\n",
              "      <td>-12.473485</td>\n",
              "      <td>-25.206472</td>\n",
              "      <td>-8.635131</td>\n",
              "      <td>3.151859</td>\n",
              "      <td>...</td>\n",
              "      <td>-7.546924</td>\n",
              "      <td>-0.703264</td>\n",
              "      <td>1.238326</td>\n",
              "      <td>2.756898</td>\n",
              "      <td>1.744722</td>\n",
              "      <td>3.896428</td>\n",
              "      <td>3.928365</td>\n",
              "      <td>5.967909</td>\n",
              "      <td>0.325803</td>\n",
              "      <td>angry</td>\n",
              "    </tr>\n",
              "    <tr>\n",
              "      <th>3</th>\n",
              "      <td>-215.903366</td>\n",
              "      <td>90.461716</td>\n",
              "      <td>8.284443</td>\n",
              "      <td>1.946910</td>\n",
              "      <td>-17.344501</td>\n",
              "      <td>-10.807262</td>\n",
              "      <td>-11.909176</td>\n",
              "      <td>-24.114471</td>\n",
              "      <td>-7.688408</td>\n",
              "      <td>3.794328</td>\n",
              "      <td>...</td>\n",
              "      <td>-7.777023</td>\n",
              "      <td>-0.712511</td>\n",
              "      <td>1.166173</td>\n",
              "      <td>2.781938</td>\n",
              "      <td>1.642865</td>\n",
              "      <td>3.132529</td>\n",
              "      <td>3.791940</td>\n",
              "      <td>5.648445</td>\n",
              "      <td>0.264331</td>\n",
              "      <td>angry</td>\n",
              "    </tr>\n",
              "    <tr>\n",
              "      <th>4</th>\n",
              "      <td>-233.631577</td>\n",
              "      <td>82.928757</td>\n",
              "      <td>7.395226</td>\n",
              "      <td>-3.362676</td>\n",
              "      <td>-17.130716</td>\n",
              "      <td>-13.296722</td>\n",
              "      <td>-12.074818</td>\n",
              "      <td>-29.563566</td>\n",
              "      <td>-0.225474</td>\n",
              "      <td>-4.093743</td>\n",
              "      <td>...</td>\n",
              "      <td>5.471067</td>\n",
              "      <td>4.213591</td>\n",
              "      <td>3.849309</td>\n",
              "      <td>1.574458</td>\n",
              "      <td>4.505084</td>\n",
              "      <td>2.946588</td>\n",
              "      <td>3.856391</td>\n",
              "      <td>-0.525717</td>\n",
              "      <td>2.720252</td>\n",
              "      <td>angry</td>\n",
              "    </tr>\n",
              "    <tr>\n",
              "      <th>...</th>\n",
              "      <td>...</td>\n",
              "      <td>...</td>\n",
              "      <td>...</td>\n",
              "      <td>...</td>\n",
              "      <td>...</td>\n",
              "      <td>...</td>\n",
              "      <td>...</td>\n",
              "      <td>...</td>\n",
              "      <td>...</td>\n",
              "      <td>...</td>\n",
              "      <td>...</td>\n",
              "      <td>...</td>\n",
              "      <td>...</td>\n",
              "      <td>...</td>\n",
              "      <td>...</td>\n",
              "      <td>...</td>\n",
              "      <td>...</td>\n",
              "      <td>...</td>\n",
              "      <td>...</td>\n",
              "      <td>...</td>\n",
              "      <td>...</td>\n",
              "    </tr>\n",
              "    <tr>\n",
              "      <th>6995</th>\n",
              "      <td>-441.944611</td>\n",
              "      <td>112.935402</td>\n",
              "      <td>-19.858946</td>\n",
              "      <td>23.183905</td>\n",
              "      <td>-12.603999</td>\n",
              "      <td>1.267367</td>\n",
              "      <td>-4.776269</td>\n",
              "      <td>-9.695309</td>\n",
              "      <td>8.398093</td>\n",
              "      <td>-3.274715</td>\n",
              "      <td>...</td>\n",
              "      <td>0.030940</td>\n",
              "      <td>-2.526158</td>\n",
              "      <td>-5.422008</td>\n",
              "      <td>-3.624665</td>\n",
              "      <td>2.022164</td>\n",
              "      <td>0.290056</td>\n",
              "      <td>1.249321</td>\n",
              "      <td>2.775069</td>\n",
              "      <td>3.110826</td>\n",
              "      <td>mix</td>\n",
              "    </tr>\n",
              "    <tr>\n",
              "      <th>6996</th>\n",
              "      <td>-403.788147</td>\n",
              "      <td>110.921272</td>\n",
              "      <td>-15.269825</td>\n",
              "      <td>20.774874</td>\n",
              "      <td>-10.816345</td>\n",
              "      <td>1.913578</td>\n",
              "      <td>-3.436296</td>\n",
              "      <td>-7.871118</td>\n",
              "      <td>7.963537</td>\n",
              "      <td>-3.942189</td>\n",
              "      <td>...</td>\n",
              "      <td>-0.601585</td>\n",
              "      <td>-2.639119</td>\n",
              "      <td>-4.765911</td>\n",
              "      <td>-2.792643</td>\n",
              "      <td>1.794485</td>\n",
              "      <td>0.630285</td>\n",
              "      <td>1.523516</td>\n",
              "      <td>1.914916</td>\n",
              "      <td>2.091741</td>\n",
              "      <td>mix</td>\n",
              "    </tr>\n",
              "    <tr>\n",
              "      <th>6997</th>\n",
              "      <td>-430.183899</td>\n",
              "      <td>104.442825</td>\n",
              "      <td>-17.769402</td>\n",
              "      <td>20.855019</td>\n",
              "      <td>-13.495803</td>\n",
              "      <td>2.540602</td>\n",
              "      <td>-6.131321</td>\n",
              "      <td>-7.374632</td>\n",
              "      <td>9.368458</td>\n",
              "      <td>-7.384371</td>\n",
              "      <td>...</td>\n",
              "      <td>-5.615122</td>\n",
              "      <td>-2.988879</td>\n",
              "      <td>0.610555</td>\n",
              "      <td>5.001388</td>\n",
              "      <td>-0.048635</td>\n",
              "      <td>0.531167</td>\n",
              "      <td>1.591043</td>\n",
              "      <td>-0.805804</td>\n",
              "      <td>-1.230404</td>\n",
              "      <td>mix</td>\n",
              "    </tr>\n",
              "    <tr>\n",
              "      <th>6998</th>\n",
              "      <td>-430.836609</td>\n",
              "      <td>106.474854</td>\n",
              "      <td>-17.319883</td>\n",
              "      <td>22.115353</td>\n",
              "      <td>-13.190195</td>\n",
              "      <td>1.402933</td>\n",
              "      <td>-4.599054</td>\n",
              "      <td>-10.318637</td>\n",
              "      <td>7.260669</td>\n",
              "      <td>-2.994003</td>\n",
              "      <td>...</td>\n",
              "      <td>0.199268</td>\n",
              "      <td>-2.543006</td>\n",
              "      <td>-5.319841</td>\n",
              "      <td>-3.497963</td>\n",
              "      <td>1.908576</td>\n",
              "      <td>0.234726</td>\n",
              "      <td>1.187492</td>\n",
              "      <td>2.734885</td>\n",
              "      <td>3.225192</td>\n",
              "      <td>mix</td>\n",
              "    </tr>\n",
              "    <tr>\n",
              "      <th>6999</th>\n",
              "      <td>-443.350616</td>\n",
              "      <td>114.332077</td>\n",
              "      <td>-20.911938</td>\n",
              "      <td>23.524368</td>\n",
              "      <td>-12.267157</td>\n",
              "      <td>1.873939</td>\n",
              "      <td>-4.560661</td>\n",
              "      <td>-9.454199</td>\n",
              "      <td>8.228064</td>\n",
              "      <td>-3.778198</td>\n",
              "      <td>...</td>\n",
              "      <td>-0.509256</td>\n",
              "      <td>-2.836668</td>\n",
              "      <td>-5.596428</td>\n",
              "      <td>-3.454354</td>\n",
              "      <td>2.430760</td>\n",
              "      <td>0.993945</td>\n",
              "      <td>1.320323</td>\n",
              "      <td>1.642015</td>\n",
              "      <td>2.096454</td>\n",
              "      <td>mix</td>\n",
              "    </tr>\n",
              "  </tbody>\n",
              "</table>\n",
              "<p>7000 rows × 59 columns</p>\n",
              "</div>\n",
              "      <button class=\"colab-df-convert\" onclick=\"convertToInteractive('df-92596156-636a-4d5e-abed-116ae179c52e')\"\n",
              "              title=\"Convert this dataframe to an interactive table.\"\n",
              "              style=\"display:none;\">\n",
              "        \n",
              "  <svg xmlns=\"http://www.w3.org/2000/svg\" height=\"24px\"viewBox=\"0 0 24 24\"\n",
              "       width=\"24px\">\n",
              "    <path d=\"M0 0h24v24H0V0z\" fill=\"none\"/>\n",
              "    <path d=\"M18.56 5.44l.94 2.06.94-2.06 2.06-.94-2.06-.94-.94-2.06-.94 2.06-2.06.94zm-11 1L8.5 8.5l.94-2.06 2.06-.94-2.06-.94L8.5 2.5l-.94 2.06-2.06.94zm10 10l.94 2.06.94-2.06 2.06-.94-2.06-.94-.94-2.06-.94 2.06-2.06.94z\"/><path d=\"M17.41 7.96l-1.37-1.37c-.4-.4-.92-.59-1.43-.59-.52 0-1.04.2-1.43.59L10.3 9.45l-7.72 7.72c-.78.78-.78 2.05 0 2.83L4 21.41c.39.39.9.59 1.41.59.51 0 1.02-.2 1.41-.59l7.78-7.78 2.81-2.81c.8-.78.8-2.07 0-2.86zM5.41 20L4 18.59l7.72-7.72 1.47 1.35L5.41 20z\"/>\n",
              "  </svg>\n",
              "      </button>\n",
              "      \n",
              "  <style>\n",
              "    .colab-df-container {\n",
              "      display:flex;\n",
              "      flex-wrap:wrap;\n",
              "      gap: 12px;\n",
              "    }\n",
              "\n",
              "    .colab-df-convert {\n",
              "      background-color: #E8F0FE;\n",
              "      border: none;\n",
              "      border-radius: 50%;\n",
              "      cursor: pointer;\n",
              "      display: none;\n",
              "      fill: #1967D2;\n",
              "      height: 32px;\n",
              "      padding: 0 0 0 0;\n",
              "      width: 32px;\n",
              "    }\n",
              "\n",
              "    .colab-df-convert:hover {\n",
              "      background-color: #E2EBFA;\n",
              "      box-shadow: 0px 1px 2px rgba(60, 64, 67, 0.3), 0px 1px 3px 1px rgba(60, 64, 67, 0.15);\n",
              "      fill: #174EA6;\n",
              "    }\n",
              "\n",
              "    [theme=dark] .colab-df-convert {\n",
              "      background-color: #3B4455;\n",
              "      fill: #D2E3FC;\n",
              "    }\n",
              "\n",
              "    [theme=dark] .colab-df-convert:hover {\n",
              "      background-color: #434B5C;\n",
              "      box-shadow: 0px 1px 3px 1px rgba(0, 0, 0, 0.15);\n",
              "      filter: drop-shadow(0px 1px 2px rgba(0, 0, 0, 0.3));\n",
              "      fill: #FFFFFF;\n",
              "    }\n",
              "  </style>\n",
              "\n",
              "      <script>\n",
              "        const buttonEl =\n",
              "          document.querySelector('#df-92596156-636a-4d5e-abed-116ae179c52e button.colab-df-convert');\n",
              "        buttonEl.style.display =\n",
              "          google.colab.kernel.accessAllowed ? 'block' : 'none';\n",
              "\n",
              "        async function convertToInteractive(key) {\n",
              "          const element = document.querySelector('#df-92596156-636a-4d5e-abed-116ae179c52e');\n",
              "          const dataTable =\n",
              "            await google.colab.kernel.invokeFunction('convertToInteractive',\n",
              "                                                     [key], {});\n",
              "          if (!dataTable) return;\n",
              "\n",
              "          const docLinkHtml = 'Like what you see? Visit the ' +\n",
              "            '<a target=\"_blank\" href=https://colab.research.google.com/notebooks/data_table.ipynb>data table notebook</a>'\n",
              "            + ' to learn more about interactive tables.';\n",
              "          element.innerHTML = '';\n",
              "          dataTable['output_type'] = 'display_data';\n",
              "          await google.colab.output.renderOutput(dataTable, element);\n",
              "          const docLink = document.createElement('div');\n",
              "          docLink.innerHTML = docLinkHtml;\n",
              "          element.appendChild(docLink);\n",
              "        }\n",
              "      </script>\n",
              "    </div>\n",
              "  </div>\n",
              "  "
            ]
          },
          "metadata": {},
          "execution_count": 47
        }
      ]
    },
    {
      "cell_type": "code",
      "source": [
        "combined_df.to_csv('features.csv', index=False)"
      ],
      "metadata": {
        "id": "_8DjYO_1AT-1"
      },
      "execution_count": 48,
      "outputs": []
    },
    {
      "cell_type": "code",
      "source": [
        "Features = pd.read_csv('/content/features.csv')"
      ],
      "metadata": {
        "id": "Hs4xSea8wnh7"
      },
      "execution_count": 49,
      "outputs": []
    },
    {
      "cell_type": "code",
      "source": [
        "from sklearn.preprocessing import StandardScaler, OneHotEncoder\n",
        "from sklearn.metrics import confusion_matrix, classification_report\n",
        "from sklearn.model_selection import train_test_split"
      ],
      "metadata": {
        "id": "ntXcS027wuWQ"
      },
      "execution_count": 50,
      "outputs": []
    },
    {
      "cell_type": "code",
      "source": [
        "Feature_X = Features.iloc[: ,:-1].values\n",
        "Feature_Y = Features['labels'].values"
      ],
      "metadata": {
        "id": "T3yCoEPyw13T"
      },
      "execution_count": 51,
      "outputs": []
    },
    {
      "cell_type": "code",
      "source": [
        "print(f\"Training Data Shape: {Feature_X.shape}\")\n",
        "print(f\"Testing Data Shape:  {Feature_Y.shape}\")"
      ],
      "metadata": {
        "colab": {
          "base_uri": "https://localhost:8080/"
        },
        "id": "Zxgc6I3TlcUR",
        "outputId": "a1bdaec5-56f4-47ba-a1ab-a2dbed586a99"
      },
      "execution_count": 52,
      "outputs": [
        {
          "output_type": "stream",
          "name": "stdout",
          "text": [
            "Training Data Shape: (7000, 58)\n",
            "Testing Data Shape:  (7000,)\n"
          ]
        }
      ]
    },
    {
      "cell_type": "code",
      "source": [
        "encoder = OneHotEncoder()\n",
        "Feature_Y = encoder.fit_transform(np.array(Feature_Y).reshape(-1,1)).toarray()"
      ],
      "metadata": {
        "id": "20FJiKSvxBQY"
      },
      "execution_count": 53,
      "outputs": []
    },
    {
      "cell_type": "code",
      "source": [
        "x_train, x_test, y_train, y_test = train_test_split(Feature_X, Feature_Y, random_state=0, test_size=0.20, shuffle=True)\n",
        "x_train.shape, y_train.shape, x_test.shape, y_test.shape"
      ],
      "metadata": {
        "colab": {
          "base_uri": "https://localhost:8080/"
        },
        "id": "uFZTHkBPx-ni",
        "outputId": "4c0a58f4-1b9a-43fe-9e66-367030407c96"
      },
      "execution_count": 54,
      "outputs": [
        {
          "output_type": "execute_result",
          "data": {
            "text/plain": [
              "((5600, 58), (5600, 2), (1400, 58), (1400, 2))"
            ]
          },
          "metadata": {},
          "execution_count": 54
        }
      ]
    },
    {
      "cell_type": "code",
      "source": [
        "print(f\"For mix_gender_X the shape is {x_train.shape}\")\n",
        "print(f\"For mix_gender_Y the shape is {y_train.shape}\")"
      ],
      "metadata": {
        "colab": {
          "base_uri": "https://localhost:8080/"
        },
        "id": "q9ubt3qcm_UO",
        "outputId": "2bea9a95-cfd2-4dcd-c3fd-e608ad6d2f4a"
      },
      "execution_count": 55,
      "outputs": [
        {
          "output_type": "stream",
          "name": "stdout",
          "text": [
            "For mix_gender_X the shape is (5600, 58)\n",
            "For mix_gender_Y the shape is (5600, 2)\n"
          ]
        }
      ]
    },
    {
      "cell_type": "code",
      "source": [
        "x_train"
      ],
      "metadata": {
        "id": "SySAhxRibnYQ",
        "outputId": "c9d967b1-a0b4-45ab-f215-cf9dc85e0870",
        "colab": {
          "base_uri": "https://localhost:8080/"
        }
      },
      "execution_count": 57,
      "outputs": [
        {
          "output_type": "execute_result",
          "data": {
            "text/plain": [
              "array([[-3.53515106e+02,  9.71903610e+01, -3.96013603e+01, ...,\n",
              "        -3.22898889e+00, -3.23166013e+00,  1.48981184e-01],\n",
              "       [-3.75763031e+02,  7.59997177e+01, -3.31735840e+01, ...,\n",
              "         1.70067835e+00,  6.32327139e-01,  1.88985407e+00],\n",
              "       [-1.66464493e+02,  8.92487793e+01, -3.65435982e+01, ...,\n",
              "        -5.24865627e-01, -3.81613582e-01, -1.42888129e-01],\n",
              "       ...,\n",
              "       [-1.40702179e+02,  1.61846302e+01, -7.98859666e-01, ...,\n",
              "         3.09655413e-01,  3.02715433e-01,  3.36780422e-01],\n",
              "       [-2.68942841e+02,  6.68055115e+01, -6.72621536e+01, ...,\n",
              "        -5.31145394e-01, -8.55701625e-01, -1.44690788e+00],\n",
              "       [-1.96837753e+02,  1.03601013e+02, -4.01834450e+01, ...,\n",
              "        -1.51944447e+00, -3.07461083e-01,  3.89750391e-01]])"
            ]
          },
          "metadata": {},
          "execution_count": 57
        }
      ]
    },
    {
      "cell_type": "code",
      "source": [
        "y_train\n"
      ],
      "metadata": {
        "id": "McL-46g_brMg",
        "outputId": "06035ca1-2d5a-43c4-f98c-79b0eb4bb8fe",
        "colab": {
          "base_uri": "https://localhost:8080/"
        }
      },
      "execution_count": 58,
      "outputs": [
        {
          "output_type": "execute_result",
          "data": {
            "text/plain": [
              "array([[0., 1.],\n",
              "       [0., 1.],\n",
              "       [1., 0.],\n",
              "       ...,\n",
              "       [1., 0.],\n",
              "       [1., 0.],\n",
              "       [1., 0.]])"
            ]
          },
          "metadata": {},
          "execution_count": 58
        }
      ]
    },
    {
      "cell_type": "code",
      "source": [
        "x_train + y_train"
      ],
      "metadata": {
        "colab": {
          "base_uri": "https://localhost:8080/",
          "height": 172
        },
        "id": "4bkNMoGqJW1R",
        "outputId": "d58114ad-73d5-47d6-9f4c-55c20e7be4a1"
      },
      "execution_count": 56,
      "outputs": [
        {
          "output_type": "error",
          "ename": "ValueError",
          "evalue": "ignored",
          "traceback": [
            "\u001b[0;31m---------------------------------------------------------------------------\u001b[0m",
            "\u001b[0;31mValueError\u001b[0m                                Traceback (most recent call last)",
            "\u001b[0;32m<ipython-input-56-9ffc98734c5a>\u001b[0m in \u001b[0;36m<cell line: 1>\u001b[0;34m()\u001b[0m\n\u001b[0;32m----> 1\u001b[0;31m \u001b[0mx_train\u001b[0m \u001b[0;34m+\u001b[0m \u001b[0my_train\u001b[0m\u001b[0;34m\u001b[0m\u001b[0;34m\u001b[0m\u001b[0m\n\u001b[0m",
            "\u001b[0;31mValueError\u001b[0m: operands could not be broadcast together with shapes (5600,58) (5600,2) "
          ]
        }
      ]
    },
    {
      "cell_type": "code",
      "source": [
        "scaler = StandardScaler()\n",
        "x_train = scaler.fit_transform(x_train)\n",
        "x_test = scaler.transform(x_test)"
      ],
      "metadata": {
        "id": "O9GJ2z1QyLk7"
      },
      "execution_count": 59,
      "outputs": []
    },
    {
      "cell_type": "code",
      "source": [
        "x_test"
      ],
      "metadata": {
        "colab": {
          "base_uri": "https://localhost:8080/"
        },
        "id": "ZBcvXHRJJaJ-",
        "outputId": "e01ad58e-9f3c-45c5-dca5-62b92796417b"
      },
      "execution_count": 60,
      "outputs": [
        {
          "output_type": "execute_result",
          "data": {
            "text/plain": [
              "array([[ 1.87567789,  0.88204423, -1.21249118, ..., -1.32278686,\n",
              "        -1.19314752, -0.25888562],\n",
              "       [-0.17871799, -0.63628407,  0.04918269, ..., -0.25801538,\n",
              "        -0.1700079 ,  0.11846948],\n",
              "       [ 1.57968363,  1.2008479 , -0.88526955, ..., -0.64536291,\n",
              "        -0.10436262, -1.82708122],\n",
              "       ...,\n",
              "       [ 0.16039802, -0.60796882, -0.73404415, ...,  0.0399653 ,\n",
              "         0.28327252,  0.14198273],\n",
              "       [ 0.33796936, -0.41595251,  0.52018658, ..., -1.92443629,\n",
              "         0.63386217,  0.34443852],\n",
              "       [-0.98810424,  1.51015014, -0.2637127 , ...,  1.3512716 ,\n",
              "        -1.25177131,  0.85674075]])"
            ]
          },
          "metadata": {},
          "execution_count": 60
        }
      ]
    },
    {
      "cell_type": "code",
      "source": [
        "# Making our data compatible to model\n",
        "x_train = np.expand_dims(x_train, axis=2)\n",
        "x_test = np.expand_dims(x_test, axis=2)\n",
        "x_train.shape, y_train.shape , x_test.shape , y_test.shape"
      ],
      "metadata": {
        "colab": {
          "base_uri": "https://localhost:8080/"
        },
        "id": "oJICQpy2yQmL",
        "outputId": "6ec8ebbd-3324-4e17-8897-5530070e9ba3"
      },
      "execution_count": 61,
      "outputs": [
        {
          "output_type": "execute_result",
          "data": {
            "text/plain": [
              "((5600, 58, 1), (5600, 2), (1400, 58, 1), (1400, 2))"
            ]
          },
          "metadata": {},
          "execution_count": 61
        }
      ]
    },
    {
      "cell_type": "code",
      "source": [
        "import tensorflow as tf\n",
        "from tensorflow import keras\n",
        "from tensorflow.keras import layers\n",
        "from keras.callbacks import ReduceLROnPlateau\n",
        "from keras.models import Sequential\n",
        "from keras.layers import Dense, Conv1D, MaxPooling1D, Flatten, Dropout, BatchNormalization, AveragePooling1D\n",
        "from keras.utils import np_utils\n",
        "from tensorflow.keras.utils import to_categorical\n",
        "from keras.callbacks import ModelCheckpoint"
      ],
      "metadata": {
        "id": "Az5nuNvayVIw"
      },
      "execution_count": 62,
      "outputs": []
    },
    {
      "cell_type": "code",
      "source": [
        "\n",
        "# Create a MirroredStrategy.\n",
        "strategy = tf.distribute.MirroredStrategy()\n",
        "print('Number of devices: {}'.format(strategy.num_replicas_in_sync))"
      ],
      "metadata": {
        "colab": {
          "base_uri": "https://localhost:8080/"
        },
        "id": "iuUhvAEgydL2",
        "outputId": "c64e60ff-ceae-4426-e87b-dd87cf1bfcaf"
      },
      "execution_count": 63,
      "outputs": [
        {
          "output_type": "stream",
          "name": "stdout",
          "text": [
            "Number of devices: 1\n"
          ]
        }
      ]
    },
    {
      "cell_type": "code",
      "source": [
        "\n",
        "with strategy.scope():\n",
        "\n",
        "    def build_model(in_shape):\n",
        "\n",
        "        model=Sequential()\n",
        "        model.add(Conv1D(256, kernel_size=6, strides=1, padding='same', activation='relu', input_shape=(in_shape, 1)))\n",
        "        model.add(AveragePooling1D(pool_size=4, strides = 2, padding = 'same'))\n",
        "\n",
        "        model.add(Conv1D(128, kernel_size=6, strides=1, padding='same', activation='relu'))\n",
        "        model.add(AveragePooling1D(pool_size=4, strides = 2, padding = 'same'))\n",
        "\n",
        "        model.add(Conv1D(128, kernel_size=6, strides=1, padding='same', activation='relu'))\n",
        "        model.add(AveragePooling1D(pool_size=4, strides = 2, padding = 'same'))\n",
        "        model.add(Dropout(0.2))\n",
        "\n",
        "        model.add(Conv1D(64, kernel_size=6, strides=1, padding='same', activation='relu'))\n",
        "        model.add(MaxPooling1D(pool_size=4, strides = 2, padding = 'same'))\n",
        "\n",
        "        model.add(Flatten())\n",
        "        model.add(Dense(units=32, activation='relu'))\n",
        "        model.add(Dropout(0.3))\n",
        "\n",
        "        model.add(Dense(units=2, activation='softmax'))\n",
        "        model.compile(optimizer = 'adam' , loss = 'categorical_crossentropy' , metrics = ['accuracy'])\n",
        "\n",
        "\n",
        "        return model\n",
        ""
      ],
      "metadata": {
        "id": "V0Ul1MB8yhUi"
      },
      "execution_count": 64,
      "outputs": []
    },
    {
      "cell_type": "code",
      "source": [
        "def model_build_summary(mod_dim, tr_features, val_features, val_labels):\n",
        "    model = build_model(mod_dim)\n",
        "    model.summary()\n",
        "\n",
        "    score = model.evaluate(val_features, val_labels, verbose = 1)\n",
        "    accuracy = 100*score[1]\n",
        "\n",
        "    return model"
      ],
      "metadata": {
        "id": "PhVgl0TDyiVL"
      },
      "execution_count": 65,
      "outputs": []
    },
    {
      "cell_type": "code",
      "source": [
        "rlrp = ReduceLROnPlateau(monitor='loss', factor=0.4, verbose=0, patience=4, min_lr=0.000001)\n",
        "batch_size = 32\n",
        "n_epochs = 75"
      ],
      "metadata": {
        "id": "Z8ClhhMIyrm3"
      },
      "execution_count": 66,
      "outputs": []
    },
    {
      "cell_type": "code",
      "source": [
        "def show_graphs(history):\n",
        "    epochs = [i for i in range(n_epochs)]\n",
        "    fig , ax = plt.subplots(1,2)\n",
        "    train_acc = history.history['accuracy']\n",
        "    train_loss = history.history['loss']\n",
        "    test_acc = history.history['val_accuracy']\n",
        "    test_loss = history.history['val_loss']\n",
        "\n",
        "    fig.set_size_inches(15,10)\n",
        "    ax[0].plot(epochs , train_loss , label = 'Training Loss')\n",
        "    ax[0].plot(epochs , test_loss , label = 'Testing Loss')\n",
        "    ax[0].set_title('Training & Testing Loss')\n",
        "    ax[0].legend()\n",
        "    ax[0].set_xlabel(\"Epochs\")\n",
        "    ax[0].labelsize = 15\n",
        "    ax[0].titlesize = 18\n",
        "\n",
        "    ax[1].plot(epochs , train_acc , label = 'Training Accuracy')\n",
        "    ax[1].plot(epochs , test_acc , label = 'Testing Accuracy')\n",
        "    ax[1].set_title('Training & Testing Accuracy')\n",
        "    ax[1].legend()\n",
        "    ax[1].set_xlabel(\"Epochs\")\n",
        "    ax[1].labelsize = 15\n",
        "    ax[1].titlesize = 18\n",
        "    plt.show()"
      ],
      "metadata": {
        "id": "zVkzz9dfyvUI"
      },
      "execution_count": 67,
      "outputs": []
    },
    {
      "cell_type": "code",
      "source": [
        "total_model = model_build_summary(x_train.shape[1], x_train, x_test, y_test)"
      ],
      "metadata": {
        "colab": {
          "base_uri": "https://localhost:8080/"
        },
        "id": "f3HMOktHyxoV",
        "outputId": "5d7b0a23-4b63-4792-877c-b9de48bc6184"
      },
      "execution_count": 68,
      "outputs": [
        {
          "output_type": "stream",
          "name": "stdout",
          "text": [
            "Model: \"sequential\"\n",
            "_________________________________________________________________\n",
            " Layer (type)                Output Shape              Param #   \n",
            "=================================================================\n",
            " conv1d (Conv1D)             (None, 58, 256)           1792      \n",
            "                                                                 \n",
            " average_pooling1d (AverageP  (None, 29, 256)          0         \n",
            " ooling1D)                                                       \n",
            "                                                                 \n",
            " conv1d_1 (Conv1D)           (None, 29, 128)           196736    \n",
            "                                                                 \n",
            " average_pooling1d_1 (Averag  (None, 15, 128)          0         \n",
            " ePooling1D)                                                     \n",
            "                                                                 \n",
            " conv1d_2 (Conv1D)           (None, 15, 128)           98432     \n",
            "                                                                 \n",
            " average_pooling1d_2 (Averag  (None, 8, 128)           0         \n",
            " ePooling1D)                                                     \n",
            "                                                                 \n",
            " dropout (Dropout)           (None, 8, 128)            0         \n",
            "                                                                 \n",
            " conv1d_3 (Conv1D)           (None, 8, 64)             49216     \n",
            "                                                                 \n",
            " max_pooling1d (MaxPooling1D  (None, 4, 64)            0         \n",
            " )                                                               \n",
            "                                                                 \n",
            " flatten (Flatten)           (None, 256)               0         \n",
            "                                                                 \n",
            " dense (Dense)               (None, 32)                8224      \n",
            "                                                                 \n",
            " dropout_1 (Dropout)         (None, 32)                0         \n",
            "                                                                 \n",
            " dense_1 (Dense)             (None, 2)                 66        \n",
            "                                                                 \n",
            "=================================================================\n",
            "Total params: 354,466\n",
            "Trainable params: 354,466\n",
            "Non-trainable params: 0\n",
            "_________________________________________________________________\n",
            "44/44 [==============================] - 8s 7ms/step - loss: 0.7002 - accuracy: 0.4907\n"
          ]
        }
      ]
    },
    {
      "cell_type": "code",
      "source": [
        "history = total_model.fit(x_train, y_train, batch_size=batch_size, epochs=n_epochs, validation_data=(x_test, y_test), callbacks=[rlrp])"
      ],
      "metadata": {
        "colab": {
          "base_uri": "https://localhost:8080/"
        },
        "id": "xcnYRJbG0I9d",
        "outputId": "d29d06e5-c84d-4b58-f128-9ed7c75ed5d6"
      },
      "execution_count": 69,
      "outputs": [
        {
          "output_type": "stream",
          "name": "stdout",
          "text": [
            "Epoch 1/75\n",
            "175/175 [==============================] - 7s 12ms/step - loss: 0.4521 - accuracy: 0.7905 - val_loss: 0.3820 - val_accuracy: 0.8129 - lr: 0.0010\n",
            "Epoch 2/75\n",
            "175/175 [==============================] - 2s 12ms/step - loss: 0.3057 - accuracy: 0.8666 - val_loss: 0.2399 - val_accuracy: 0.8950 - lr: 0.0010\n",
            "Epoch 3/75\n",
            "175/175 [==============================] - 2s 11ms/step - loss: 0.2404 - accuracy: 0.8970 - val_loss: 0.1864 - val_accuracy: 0.9329 - lr: 0.0010\n",
            "Epoch 4/75\n",
            "175/175 [==============================] - 1s 8ms/step - loss: 0.1806 - accuracy: 0.9252 - val_loss: 0.1614 - val_accuracy: 0.9264 - lr: 0.0010\n",
            "Epoch 5/75\n",
            "175/175 [==============================] - 1s 6ms/step - loss: 0.1502 - accuracy: 0.9354 - val_loss: 0.1226 - val_accuracy: 0.9507 - lr: 0.0010\n",
            "Epoch 6/75\n",
            "175/175 [==============================] - 2s 9ms/step - loss: 0.1150 - accuracy: 0.9554 - val_loss: 0.1129 - val_accuracy: 0.9593 - lr: 0.0010\n",
            "Epoch 7/75\n",
            "175/175 [==============================] - 2s 9ms/step - loss: 0.0907 - accuracy: 0.9632 - val_loss: 0.1002 - val_accuracy: 0.9629 - lr: 0.0010\n",
            "Epoch 8/75\n",
            "175/175 [==============================] - 1s 8ms/step - loss: 0.0748 - accuracy: 0.9709 - val_loss: 0.0866 - val_accuracy: 0.9607 - lr: 0.0010\n",
            "Epoch 9/75\n",
            "175/175 [==============================] - 1s 6ms/step - loss: 0.0668 - accuracy: 0.9737 - val_loss: 0.0685 - val_accuracy: 0.9750 - lr: 0.0010\n",
            "Epoch 10/75\n",
            "175/175 [==============================] - 1s 6ms/step - loss: 0.0562 - accuracy: 0.9780 - val_loss: 0.0544 - val_accuracy: 0.9771 - lr: 0.0010\n",
            "Epoch 11/75\n",
            "175/175 [==============================] - 1s 6ms/step - loss: 0.0544 - accuracy: 0.9814 - val_loss: 0.0617 - val_accuracy: 0.9793 - lr: 0.0010\n",
            "Epoch 12/75\n",
            "175/175 [==============================] - 1s 6ms/step - loss: 0.0418 - accuracy: 0.9839 - val_loss: 0.0513 - val_accuracy: 0.9814 - lr: 0.0010\n",
            "Epoch 13/75\n",
            "175/175 [==============================] - 1s 6ms/step - loss: 0.0515 - accuracy: 0.9836 - val_loss: 0.0613 - val_accuracy: 0.9829 - lr: 0.0010\n",
            "Epoch 14/75\n",
            "175/175 [==============================] - 1s 6ms/step - loss: 0.0289 - accuracy: 0.9882 - val_loss: 0.0406 - val_accuracy: 0.9850 - lr: 0.0010\n",
            "Epoch 15/75\n",
            "175/175 [==============================] - 1s 6ms/step - loss: 0.0294 - accuracy: 0.9886 - val_loss: 0.0665 - val_accuracy: 0.9793 - lr: 0.0010\n",
            "Epoch 16/75\n",
            "175/175 [==============================] - 1s 6ms/step - loss: 0.0338 - accuracy: 0.9868 - val_loss: 0.0501 - val_accuracy: 0.9786 - lr: 0.0010\n",
            "Epoch 17/75\n",
            "175/175 [==============================] - 1s 6ms/step - loss: 0.0299 - accuracy: 0.9896 - val_loss: 0.0527 - val_accuracy: 0.9764 - lr: 0.0010\n",
            "Epoch 18/75\n",
            "175/175 [==============================] - 1s 7ms/step - loss: 0.0286 - accuracy: 0.9895 - val_loss: 0.0445 - val_accuracy: 0.9843 - lr: 0.0010\n",
            "Epoch 19/75\n",
            "175/175 [==============================] - 2s 9ms/step - loss: 0.0330 - accuracy: 0.9871 - val_loss: 0.0374 - val_accuracy: 0.9879 - lr: 0.0010\n",
            "Epoch 20/75\n",
            "175/175 [==============================] - 1s 8ms/step - loss: 0.0216 - accuracy: 0.9914 - val_loss: 0.0476 - val_accuracy: 0.9786 - lr: 0.0010\n",
            "Epoch 21/75\n",
            "175/175 [==============================] - 1s 6ms/step - loss: 0.0209 - accuracy: 0.9934 - val_loss: 0.0454 - val_accuracy: 0.9821 - lr: 0.0010\n",
            "Epoch 22/75\n",
            "175/175 [==============================] - 1s 6ms/step - loss: 0.0177 - accuracy: 0.9934 - val_loss: 0.0462 - val_accuracy: 0.9829 - lr: 0.0010\n",
            "Epoch 23/75\n",
            "175/175 [==============================] - 1s 6ms/step - loss: 0.0138 - accuracy: 0.9941 - val_loss: 0.0337 - val_accuracy: 0.9900 - lr: 0.0010\n",
            "Epoch 24/75\n",
            "175/175 [==============================] - 1s 6ms/step - loss: 0.0252 - accuracy: 0.9914 - val_loss: 0.0754 - val_accuracy: 0.9800 - lr: 0.0010\n",
            "Epoch 25/75\n",
            "175/175 [==============================] - 1s 6ms/step - loss: 0.0249 - accuracy: 0.9918 - val_loss: 0.0326 - val_accuracy: 0.9871 - lr: 0.0010\n",
            "Epoch 26/75\n",
            "175/175 [==============================] - 1s 6ms/step - loss: 0.0111 - accuracy: 0.9948 - val_loss: 0.0506 - val_accuracy: 0.9879 - lr: 0.0010\n",
            "Epoch 27/75\n",
            "175/175 [==============================] - 1s 6ms/step - loss: 0.0175 - accuracy: 0.9941 - val_loss: 0.0460 - val_accuracy: 0.9886 - lr: 0.0010\n",
            "Epoch 28/75\n",
            "175/175 [==============================] - 1s 6ms/step - loss: 0.0111 - accuracy: 0.9961 - val_loss: 0.0791 - val_accuracy: 0.9821 - lr: 0.0010\n",
            "Epoch 29/75\n",
            "175/175 [==============================] - 1s 6ms/step - loss: 0.0175 - accuracy: 0.9934 - val_loss: 0.0334 - val_accuracy: 0.9857 - lr: 0.0010\n",
            "Epoch 30/75\n",
            "175/175 [==============================] - 1s 7ms/step - loss: 0.0123 - accuracy: 0.9961 - val_loss: 0.0396 - val_accuracy: 0.9864 - lr: 0.0010\n",
            "Epoch 31/75\n",
            "175/175 [==============================] - 1s 8ms/step - loss: 0.0063 - accuracy: 0.9986 - val_loss: 0.0404 - val_accuracy: 0.9893 - lr: 4.0000e-04\n",
            "Epoch 32/75\n",
            "175/175 [==============================] - 2s 9ms/step - loss: 0.0011 - accuracy: 1.0000 - val_loss: 0.0425 - val_accuracy: 0.9893 - lr: 4.0000e-04\n",
            "Epoch 33/75\n",
            "175/175 [==============================] - 1s 7ms/step - loss: 0.0013 - accuracy: 0.9995 - val_loss: 0.0479 - val_accuracy: 0.9907 - lr: 4.0000e-04\n",
            "Epoch 34/75\n",
            "175/175 [==============================] - 1s 6ms/step - loss: 7.8253e-04 - accuracy: 1.0000 - val_loss: 0.0482 - val_accuracy: 0.9914 - lr: 4.0000e-04\n",
            "Epoch 35/75\n",
            "175/175 [==============================] - 1s 6ms/step - loss: 3.9709e-04 - accuracy: 1.0000 - val_loss: 0.0460 - val_accuracy: 0.9907 - lr: 4.0000e-04\n",
            "Epoch 36/75\n",
            "175/175 [==============================] - 1s 6ms/step - loss: 0.0065 - accuracy: 0.9987 - val_loss: 0.0380 - val_accuracy: 0.9914 - lr: 4.0000e-04\n",
            "Epoch 37/75\n",
            "175/175 [==============================] - 1s 6ms/step - loss: 0.0051 - accuracy: 0.9987 - val_loss: 0.0605 - val_accuracy: 0.9879 - lr: 4.0000e-04\n",
            "Epoch 38/75\n",
            "175/175 [==============================] - 1s 6ms/step - loss: 0.0034 - accuracy: 0.9989 - val_loss: 0.0531 - val_accuracy: 0.9893 - lr: 4.0000e-04\n",
            "Epoch 39/75\n",
            "175/175 [==============================] - 1s 6ms/step - loss: 0.0028 - accuracy: 0.9989 - val_loss: 0.0555 - val_accuracy: 0.9871 - lr: 4.0000e-04\n",
            "Epoch 40/75\n",
            "175/175 [==============================] - 1s 6ms/step - loss: 8.1820e-04 - accuracy: 0.9998 - val_loss: 0.0516 - val_accuracy: 0.9893 - lr: 1.6000e-04\n",
            "Epoch 41/75\n",
            "175/175 [==============================] - 1s 6ms/step - loss: 7.3487e-04 - accuracy: 0.9998 - val_loss: 0.0450 - val_accuracy: 0.9900 - lr: 1.6000e-04\n",
            "Epoch 42/75\n",
            "175/175 [==============================] - 1s 6ms/step - loss: 5.6059e-04 - accuracy: 0.9998 - val_loss: 0.0459 - val_accuracy: 0.9886 - lr: 1.6000e-04\n",
            "Epoch 43/75\n",
            "175/175 [==============================] - 2s 9ms/step - loss: 2.7855e-04 - accuracy: 1.0000 - val_loss: 0.0460 - val_accuracy: 0.9879 - lr: 1.6000e-04\n",
            "Epoch 44/75\n",
            "175/175 [==============================] - 2s 9ms/step - loss: 2.3172e-04 - accuracy: 1.0000 - val_loss: 0.0473 - val_accuracy: 0.9893 - lr: 1.6000e-04\n",
            "Epoch 45/75\n",
            "175/175 [==============================] - 1s 8ms/step - loss: 3.1611e-04 - accuracy: 1.0000 - val_loss: 0.0512 - val_accuracy: 0.9900 - lr: 1.6000e-04\n",
            "Epoch 46/75\n",
            "175/175 [==============================] - 1s 6ms/step - loss: 7.7708e-04 - accuracy: 0.9996 - val_loss: 0.0521 - val_accuracy: 0.9893 - lr: 1.6000e-04\n",
            "Epoch 47/75\n",
            "175/175 [==============================] - 1s 6ms/step - loss: 3.2236e-04 - accuracy: 1.0000 - val_loss: 0.0543 - val_accuracy: 0.9886 - lr: 1.6000e-04\n",
            "Epoch 48/75\n",
            "175/175 [==============================] - 1s 6ms/step - loss: 2.2834e-04 - accuracy: 1.0000 - val_loss: 0.0565 - val_accuracy: 0.9893 - lr: 6.4000e-05\n",
            "Epoch 49/75\n",
            "175/175 [==============================] - 1s 6ms/step - loss: 1.6212e-04 - accuracy: 1.0000 - val_loss: 0.0557 - val_accuracy: 0.9893 - lr: 6.4000e-05\n",
            "Epoch 50/75\n",
            "175/175 [==============================] - 1s 6ms/step - loss: 3.1412e-04 - accuracy: 1.0000 - val_loss: 0.0535 - val_accuracy: 0.9900 - lr: 6.4000e-05\n",
            "Epoch 51/75\n",
            "175/175 [==============================] - 1s 6ms/step - loss: 2.0094e-04 - accuracy: 1.0000 - val_loss: 0.0551 - val_accuracy: 0.9893 - lr: 6.4000e-05\n",
            "Epoch 52/75\n",
            "175/175 [==============================] - 1s 6ms/step - loss: 1.0198e-04 - accuracy: 1.0000 - val_loss: 0.0562 - val_accuracy: 0.9893 - lr: 6.4000e-05\n",
            "Epoch 53/75\n",
            "175/175 [==============================] - 1s 6ms/step - loss: 4.0118e-04 - accuracy: 0.9998 - val_loss: 0.0612 - val_accuracy: 0.9907 - lr: 6.4000e-05\n",
            "Epoch 54/75\n",
            "175/175 [==============================] - 1s 6ms/step - loss: 1.6809e-04 - accuracy: 1.0000 - val_loss: 0.0590 - val_accuracy: 0.9907 - lr: 2.5600e-05\n",
            "Epoch 55/75\n",
            "175/175 [==============================] - 1s 8ms/step - loss: 2.1605e-04 - accuracy: 1.0000 - val_loss: 0.0579 - val_accuracy: 0.9900 - lr: 2.5600e-05\n",
            "Epoch 56/75\n",
            "175/175 [==============================] - 2s 9ms/step - loss: 2.1432e-04 - accuracy: 1.0000 - val_loss: 0.0589 - val_accuracy: 0.9900 - lr: 2.5600e-05\n",
            "Epoch 57/75\n",
            "175/175 [==============================] - 1s 8ms/step - loss: 1.7606e-04 - accuracy: 1.0000 - val_loss: 0.0583 - val_accuracy: 0.9900 - lr: 2.5600e-05\n",
            "Epoch 58/75\n",
            "175/175 [==============================] - 1s 6ms/step - loss: 2.4231e-04 - accuracy: 0.9998 - val_loss: 0.0570 - val_accuracy: 0.9893 - lr: 1.0240e-05\n",
            "Epoch 59/75\n",
            "175/175 [==============================] - 1s 6ms/step - loss: 1.6296e-04 - accuracy: 1.0000 - val_loss: 0.0562 - val_accuracy: 0.9893 - lr: 1.0240e-05\n",
            "Epoch 60/75\n",
            "175/175 [==============================] - 1s 6ms/step - loss: 4.9893e-04 - accuracy: 0.9998 - val_loss: 0.0560 - val_accuracy: 0.9893 - lr: 1.0240e-05\n",
            "Epoch 61/75\n",
            "175/175 [==============================] - 1s 6ms/step - loss: 1.0716e-04 - accuracy: 1.0000 - val_loss: 0.0562 - val_accuracy: 0.9893 - lr: 1.0240e-05\n",
            "Epoch 62/75\n",
            "175/175 [==============================] - 1s 6ms/step - loss: 7.3407e-05 - accuracy: 1.0000 - val_loss: 0.0564 - val_accuracy: 0.9893 - lr: 4.0960e-06\n",
            "Epoch 63/75\n",
            "175/175 [==============================] - 1s 6ms/step - loss: 1.6761e-04 - accuracy: 1.0000 - val_loss: 0.0567 - val_accuracy: 0.9893 - lr: 4.0960e-06\n",
            "Epoch 64/75\n",
            "175/175 [==============================] - 1s 6ms/step - loss: 2.1725e-04 - accuracy: 1.0000 - val_loss: 0.0569 - val_accuracy: 0.9893 - lr: 4.0960e-06\n",
            "Epoch 65/75\n",
            "175/175 [==============================] - 1s 6ms/step - loss: 7.6989e-05 - accuracy: 1.0000 - val_loss: 0.0570 - val_accuracy: 0.9893 - lr: 4.0960e-06\n",
            "Epoch 66/75\n",
            "175/175 [==============================] - 1s 6ms/step - loss: 1.7400e-04 - accuracy: 1.0000 - val_loss: 0.0568 - val_accuracy: 0.9893 - lr: 1.6384e-06\n",
            "Epoch 67/75\n",
            "175/175 [==============================] - 1s 8ms/step - loss: 2.9456e-04 - accuracy: 0.9998 - val_loss: 0.0565 - val_accuracy: 0.9893 - lr: 1.6384e-06\n",
            "Epoch 68/75\n",
            "175/175 [==============================] - 2s 9ms/step - loss: 1.0006e-04 - accuracy: 1.0000 - val_loss: 0.0566 - val_accuracy: 0.9893 - lr: 1.6384e-06\n",
            "Epoch 69/75\n",
            "175/175 [==============================] - 2s 9ms/step - loss: 1.0366e-04 - accuracy: 1.0000 - val_loss: 0.0566 - val_accuracy: 0.9893 - lr: 1.6384e-06\n",
            "Epoch 70/75\n",
            "175/175 [==============================] - 1s 6ms/step - loss: 8.2333e-05 - accuracy: 1.0000 - val_loss: 0.0566 - val_accuracy: 0.9893 - lr: 1.0000e-06\n",
            "Epoch 71/75\n",
            "175/175 [==============================] - 1s 6ms/step - loss: 1.1767e-04 - accuracy: 1.0000 - val_loss: 0.0567 - val_accuracy: 0.9893 - lr: 1.0000e-06\n",
            "Epoch 72/75\n",
            "175/175 [==============================] - 1s 6ms/step - loss: 9.1131e-05 - accuracy: 1.0000 - val_loss: 0.0567 - val_accuracy: 0.9893 - lr: 1.0000e-06\n",
            "Epoch 73/75\n",
            "175/175 [==============================] - 1s 6ms/step - loss: 1.1719e-04 - accuracy: 1.0000 - val_loss: 0.0567 - val_accuracy: 0.9893 - lr: 1.0000e-06\n",
            "Epoch 74/75\n",
            "175/175 [==============================] - 1s 6ms/step - loss: 2.9025e-04 - accuracy: 1.0000 - val_loss: 0.0566 - val_accuracy: 0.9893 - lr: 1.0000e-06\n",
            "Epoch 75/75\n",
            "175/175 [==============================] - 1s 6ms/step - loss: 1.3154e-04 - accuracy: 1.0000 - val_loss: 0.0566 - val_accuracy: 0.9893 - lr: 1.0000e-06\n"
          ]
        }
      ]
    },
    {
      "cell_type": "code",
      "source": [
        "score = total_model.evaluate(x_train,y_train, verbose = 0)\n",
        "print(\"Mixed-gender emotions training Accuracy: {0:.2%}\".format(score[1]))\n",
        "\n",
        "score = total_model.evaluate(x_test, y_test, verbose=0)\n",
        "print(\"Mixed-gender emotions testing Accuracy: {0:.2%}\".format(score[1]))"
      ],
      "metadata": {
        "colab": {
          "base_uri": "https://localhost:8080/"
        },
        "id": "iorn53Wj0wrS",
        "outputId": "c58c64c6-47c1-4644-fc8f-65b46a02d825"
      },
      "execution_count": 70,
      "outputs": [
        {
          "output_type": "stream",
          "name": "stdout",
          "text": [
            "Mixed-gender emotions training Accuracy: 100.00%\n",
            "Mixed-gender emotions testing Accuracy: 98.93%\n"
          ]
        }
      ]
    },
    {
      "cell_type": "code",
      "source": [
        "show_graphs(history)"
      ],
      "metadata": {
        "colab": {
          "base_uri": "https://localhost:8080/",
          "height": 814
        },
        "id": "ZDQpriYm04cx",
        "outputId": "d75a9e75-6601-4ab1-e337-e16cd1d79c6c"
      },
      "execution_count": 71,
      "outputs": [
        {
          "output_type": "display_data",
          "data": {
            "text/plain": [
              "<Figure size 1500x1000 with 2 Axes>"
            ],
            "image/png": "[encoded data removed]"
          },
          "metadata": {}
        }
      ]
    },
    {
      "cell_type": "code",
      "source": [
        "# predicting on test data.\n",
        "pred_test = total_model.predict(x_test)\n",
        "y_pred = encoder.inverse_transform(pred_test)\n",
        "y_test_ = encoder.inverse_transform(y_test)"
      ],
      "metadata": {
        "id": "uhjNlPFN1O-g",
        "outputId": "dae04099-a8b6-4d7e-ede5-50a707f2b3e6",
        "colab": {
          "base_uri": "https://localhost:8080/"
        }
      },
      "execution_count": 72,
      "outputs": [
        {
          "output_type": "stream",
          "name": "stdout",
          "text": [
            "44/44 [==============================] - 0s 2ms/step\n"
          ]
        }
      ]
    },
    {
      "cell_type": "code",
      "source": [
        "cm = confusion_matrix(y_test_, y_pred)\n",
        "plt.figure(figsize = (10, 8))\n",
        "cm = pd.DataFrame(cm , index = [i for i in encoder.categories_] , columns = [i for i in encoder.categories_])\n",
        "sns.heatmap(cm, linecolor='white', cmap='Blues', linewidth=1, annot=True, fmt='')\n",
        "plt.title('Confusion Matrix for Mixed Gender Emotions', size=20)\n",
        "plt.xlabel('Predicted Labels', size=14)\n",
        "plt.ylabel('Actual Labels', size=14)\n",
        "plt.show()\n"
      ],
      "metadata": {
        "colab": {
          "base_uri": "https://localhost:8080/",
          "height": 722
        },
        "id": "ByakHuqw1SP4",
        "outputId": "ac45b53d-0598-46c9-e4a2-282637eb2877"
      },
      "execution_count": 73,
      "outputs": [
        {
          "output_type": "display_data",
          "data": {
            "text/plain": [
              "<Figure size 1000x800 with 2 Axes>"
            ],
            "image/png": "[encoded data removed]"
          },
          "metadata": {}
        }
      ]
    },
    {
      "cell_type": "code",
      "source": [
        "def getPieChart(y_pred):\n",
        "    a=[]\n",
        "    for i in y_pred:\n",
        "        a.append(i[0])\n",
        "    # print(a)\n",
        "    b=np.array(a)\n",
        "    x= np.unique(b)\n",
        "    count=[]\n",
        "    for ii in x:\n",
        "        c=a.count(ii)\n",
        "        count.append(c)\n",
        "    # print(count)\n",
        "    cars = x\n",
        "\n",
        "    data = count\n",
        "    import seaborn as sns\n",
        "    colors = sns.color_palette('Paired')[0:5]\n",
        "\n",
        "    plt.pie(data, labels = x,autopct='%1.1f%%',colors=colors)\n",
        "    plt.show()"
      ],
      "metadata": {
        "id": "s0AFpWRZ1uuu"
      },
      "execution_count": 75,
      "outputs": []
    },
    {
      "cell_type": "code",
      "source": [
        "#sample_rate = 22050\n",
        "\n",
        "def extract_features(data):\n",
        "    result = np.array([])\n",
        "    mfccs = librosa.feature.mfcc(y=data, sr=22050, n_mfcc=58)\n",
        "    mfccs_processed = np.mean(mfccs.T,axis=0)\n",
        "    result = np.array(mfccs_processed)\n",
        "\n",
        "    return result\n",
        "\n",
        "def get_features(path):\n",
        "    # duration and offset are used to take care of the no audio in start and the ending of each audio files as seen above.\n",
        "    data, sample_rate = librosa.load(path, duration=3, offset=0.5, res_type='kaiser_fast')\n",
        "\n",
        "    #without augmentation\n",
        "    res1 = extract_features(data)\n",
        "    result = np.array(res1)\n",
        "\n",
        "    #noised\n",
        "    noise_data = noise(data)\n",
        "    res2 = extract_features(noise_data)\n",
        "    result = np.vstack((result, res2)) # stacking vertically\n",
        "\n",
        "    #stretched\n",
        "    stretch_data = stretch(data)\n",
        "    res3 = extract_features(stretch_data)\n",
        "    result = np.vstack((result, res3))\n",
        "\n",
        "    #shifted\n",
        "    shift_data = shift(data)\n",
        "    res4 = extract_features(shift_data)\n",
        "    result = np.vstack((result, res4))\n",
        "\n",
        "    #pitched\n",
        "    pitch_data = pitch(data, sample_rate)\n",
        "    res5 = extract_features(pitch_data)\n",
        "    result = np.vstack((result, res5))\n",
        "\n",
        "    #speed up\n",
        "    higher_speed_data = higher_speed(data)\n",
        "    res6 = extract_features(higher_speed_data)\n",
        "    result = np.vstack((result, res6))\n",
        "\n",
        "    #speed down\n",
        "    lower_speed_data = higher_speed(data)\n",
        "    res7 = extract_features(lower_speed_data)\n",
        "    result = np.vstack((result, res7))\n",
        "\n",
        "    return result"
      ],
      "metadata": {
        "id": "DeKeeP_G-xNl"
      },
      "execution_count": null,
      "outputs": []
    },
    {
      "cell_type": "code",
      "source": [
        "#Testing Method 01\n",
        "path_m = '/content/angry test (1).wav'\n",
        "Audio(path_m)"
      ],
      "metadata": {
        "id": "bWBJQC-__Icf"
      },
      "execution_count": null,
      "outputs": []
    },
    {
      "cell_type": "code",
      "source": [
        "path_m = '/content/angry test (1).wav'\n",
        "x = get_features(path_m)\n",
        "x = scaler.transform(x)\n",
        "x = np.expand_dims(x, axis=2)\n",
        "\n",
        "pred_test = total_model.predict(x)\n",
        "y_pred = encoder.inverse_transform(pred_test)\n",
        "y_test_ = encoder.inverse_transform(y_test)\n",
        "\n",
        "\n",
        "emotion='Test'\n",
        "data, sampling_rate = librosa.load(path_m)\n",
        "# create_waveplot(data, sampling_rate, emotion)\n",
        "getPieChart(y_pred)"
      ],
      "metadata": {
        "id": "B0gHTvkQ1i7x"
      },
      "execution_count": null,
      "outputs": []
    },
    {
      "cell_type": "code",
      "source": [
        "# path_m = '/content/angry test (1).wav'\n",
        "# data, sample_rate = librosa.load(path_m, duration=3, offset=0.5, res_type='kaiser_fast')\n",
        "# result = np.array([])\n",
        "# mfccs = librosa.feature.mfcc(y=data, sr=22050, n_mfcc=58)\n",
        "# mfccs_processed = np.mean(mfccs.T,axis=0)\n",
        "# result = np.array(mfccs_processed)\n",
        "# xx =  np.reshape(result, (1,58))\n",
        "# # x\n",
        "# x = scaler.transform(xx)\n",
        "# x = np.expand_dims(xx, axis=2)\n",
        "\n",
        "# pred_test = total_model.predict(x)\n",
        "# y_pred = encoder.inverse_transform(pred_test)\n",
        "# y_test_ = encoder.inverse_transform(y_test)\n",
        "# y_test_\n",
        "\n",
        "\n",
        "# emotion='Test'\n",
        "# data, sampling_rate = librosa.load(path_m)\n",
        "# # create_waveplot(data, sampling_rate, emotion)\n",
        "# getPieChart(y_pred)"
      ],
      "metadata": {
        "id": "PO5KydFNPjN8"
      },
      "execution_count": null,
      "outputs": []
    },
    {
      "cell_type": "code",
      "source": [
        "path_m = '/content/drive/MyDrive/shehroz dataset/angry/a_103.wav'\n",
        "Audio(path_m)"
      ],
      "metadata": {
        "id": "MuJL8gk4PRFw"
      },
      "execution_count": null,
      "outputs": []
    },
    {
      "cell_type": "code",
      "source": [
        "#Alternate Method\n",
        "normal = get_features1(path_m)\n",
        "noised = get_features2(path_m)\n",
        "stretched = get_features3(path_m)\n",
        "shifted = get_features4(path_m)\n",
        "pitched = get_features5(path_m)\n",
        "speed_up = get_features6(path_m)\n",
        "speed_down = get_features7(path_m)\n",
        "\n",
        "result = np.array(normal)\n",
        "result = np.vstack((result, noised))\n",
        "result = np.vstack((result, stretched))\n",
        "result = np.vstack((result, shifted))\n",
        "result = np.vstack((result, pitched))\n",
        "result = np.vstack((result, speed_up))\n",
        "result = np.vstack((result, speed_down))"
      ],
      "metadata": {
        "id": "LBuVnhzt5ERC"
      },
      "execution_count": null,
      "outputs": []
    },
    {
      "cell_type": "code",
      "source": [
        "# x = get_features(path_m)\n",
        "x = scaler.transform(result)\n",
        "x = np.expand_dims(x, axis=2)\n",
        "\n",
        "pred_test = total_model.predict(x)\n",
        "y_pred = encoder.inverse_transform(pred_test)\n",
        "y_test_ = encoder.inverse_transform(y_test)\n",
        "\n",
        "\n",
        "emotion='Test'\n",
        "data, sampling_rate = librosa.load(path_m)\n",
        "# create_waveplot(data, sampling_rate, emotion)\n",
        "getPieChart(y_pred)"
      ],
      "metadata": {
        "id": "zuQV3VGoO_Dr"
      },
      "execution_count": null,
      "outputs": []
    },
    {
      "cell_type": "code",
      "source": [],
      "metadata": {
        "id": "iaOrPUqS3hmx"
      },
      "execution_count": null,
      "outputs": []
    },
    {
      "cell_type": "code",
      "source": [
        "from tensorflow.keras.models import Model\n",
        "from tensorflow.keras.models import load_model\n",
        "import joblib\n",
        "# saving and loading the .h5 model\n",
        "\n",
        "# save model\n",
        "total_model.save('gfgModel.h5')\n",
        "print('Model Saved!')\n",
        "\n",
        "joblib.dump(scaler, 'std_scaler.bin', compress=True)\n",
        "# load model\n",
        "savedModel=load_model('gfgModel.h5')\n",
        "savedModel.summary()"
      ],
      "metadata": {
        "id": "5X0Oc1tB2_BV"
      },
      "execution_count": null,
      "outputs": []
    },
    {
      "cell_type": "code",
      "source": [
        "# save model\n",
        "total_model.save_weights('gfgModelWeights')\n",
        "print('Model Saved!')\n",
        "\n",
        "# load model\n",
        "savedModel = total_model.load_weights('gfgModelWeights')\n",
        "print('Model Loaded!')"
      ],
      "metadata": {
        "id": "_mXn5xVW3ikj"
      },
      "execution_count": null,
      "outputs": []
    },
    {
      "cell_type": "code",
      "source": [
        "import tensorflow as tf\n",
        "\n",
        "model = tf.keras.models.load_model('gfgModel.h5')\n",
        "converter = tf.lite.TFLiteConverter.from_keras_model(model)\n",
        "tflite_model = converter.convert()\n",
        "open(\"converted_model.tflite\", \"wb\").write(tflite_model)"
      ],
      "metadata": {
        "id": "4eoAmqkX3zuH"
      },
      "execution_count": null,
      "outputs": []
    },
    {
      "cell_type": "code",
      "source": [
        "x_train.shape, y_train.shape, x_test.shape, y_test.shape"
      ],
      "metadata": {
        "id": "d7XPbiUHxj1Q"
      },
      "execution_count": null,
      "outputs": []
    },
    {
      "cell_type": "code",
      "source": [
        "type(x_train)"
      ],
      "metadata": {
        "id": "wB1KRULo_T26"
      },
      "execution_count": null,
      "outputs": []
    },
    {
      "cell_type": "code",
      "source": [],
      "metadata": {
        "id": "F4EUlWWX_Ya6"
      },
      "execution_count": null,
      "outputs": []
    }
  ]
}